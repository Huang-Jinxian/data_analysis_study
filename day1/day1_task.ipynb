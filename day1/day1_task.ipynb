{
  "cells": [
    {
      "cell_type": "markdown",
      "metadata": {
        "pycharm": {
          "name": "#%% md\n"
        }
      },
      "source": [
        "1. 导入numpy库并简写为 np (★☆☆)  \n",
        "\u003e提示: import … as …  "
      ]
    },
    {
      "cell_type": "code",
      "execution_count": 2,
      "metadata": {
        "pycharm": {
          "is_executing": false
        }
      },
      "outputs": [],
      "source": [
        "import numpy as np"
      ]
    },
    {
      "cell_type": "markdown",
      "metadata": {
        "pycharm": {}
      },
      "source": [
        "2. 打印numpy的版本和配置说明 (★☆☆)  \n",
        "\u003e 提示: np.__version__, np.show_config"
      ]
    },
    {
      "cell_type": "code",
      "execution_count": 3,
      "metadata": {
        "pycharm": {
          "is_executing": false,
          "name": "#%%\n"
        }
      },
      "outputs": [
        {
          "name": "stdout",
          "output_type": "stream",
          "text": [
            "1.16.3\n",
            "blas_mkl_info:\n",
            "  NOT AVAILABLE\n",
            "blis_info:\n",
            "  NOT AVAILABLE\n",
            "openblas_info:\n",
            "    libraries \u003d [\u0027openblas\u0027, \u0027openblas\u0027]\n",
            "    library_dirs \u003d [\u0027/usr/local/lib\u0027]\n",
            "    language \u003d c\n",
            "    define_macros \u003d [(\u0027HAVE_CBLAS\u0027, None)]\n",
            "blas_opt_info:\n",
            "    libraries \u003d [\u0027openblas\u0027, \u0027openblas\u0027]\n",
            "    library_dirs \u003d [\u0027/usr/local/lib\u0027]\n",
            "    language \u003d c\n",
            "    define_macros \u003d [(\u0027HAVE_CBLAS\u0027, None)]\n",
            "lapack_mkl_info:\n",
            "  NOT AVAILABLE\n",
            "openblas_lapack_info:\n",
            "    libraries \u003d [\u0027openblas\u0027, \u0027openblas\u0027]\n",
            "    library_dirs \u003d [\u0027/usr/local/lib\u0027]\n",
            "    language \u003d c\n",
            "    define_macros \u003d [(\u0027HAVE_CBLAS\u0027, None)]\n",
            "lapack_opt_info:\n",
            "    libraries \u003d [\u0027openblas\u0027, \u0027openblas\u0027]\n",
            "    library_dirs \u003d [\u0027/usr/local/lib\u0027]\n",
            "    language \u003d c\n",
            "    define_macros \u003d [(\u0027HAVE_CBLAS\u0027, None)]\n"
          ]
        }
      ],
      "source": [
        "print(np.__version__)\n",
        "np.show_config()"
      ]
    },
    {
      "cell_type": "markdown",
      "metadata": {
        "pycharm": {}
      },
      "source": [
        "3. 创建一个长度为10的空向量 (★☆☆)\n",
        "\u003e 提示: `np.zeros`, return the array all contains zero."
      ]
    },
    {
      "cell_type": "code",
      "execution_count": 4,
      "metadata": {
        "pycharm": {
          "is_executing": false,
          "name": "#%%\n"
        }
      },
      "outputs": [
        {
          "name": "stdout",
          "output_type": "stream",
          "text": [
            "[0. 0. 0. 0. 0. 0. 0. 0. 0. 0.]\n"
          ]
        }
      ],
      "source": [
        "zv \u003d np.zeros(10)\n",
        "print(zv)"
      ]
    },
    {
      "cell_type": "markdown",
      "metadata": {
        "pycharm": {}
      },
      "source": [
        "4. 如何找到任何一个数组的内存大小？ (★☆☆)\n",
        "\u003e 提示: \n",
        "\u003e   * size : the number of the elements in the array\n",
        "\u003e   * itemsize : the bytes length of the array element"
      ]
    },
    {
      "cell_type": "code",
      "execution_count": 5,
      "metadata": {
        "pycharm": {
          "is_executing": false,
          "name": "#%%\n"
        }
      },
      "outputs": [
        {
          "name": "stdout",
          "output_type": "stream",
          "text": [
            "size: 800 bytes\n"
          ]
        }
      ],
      "source": [
        "zv \u003d np.zeros((10, 10))\n",
        "print(\u0027size: %d bytes\u0027 % (zv.size * zv.itemsize))"
      ]
    },
    {
      "cell_type": "markdown",
      "metadata": {
        "pycharm": {}
      },
      "source": [
        "5. 如何从命令行得到numpy中add函数的说明文档? (★☆☆)\n",
        "\u003e 提示: `np.info()`, used to get help information of a func, class or module"
      ]
    },
    {
      "cell_type": "code",
      "execution_count": 6,
      "metadata": {
        "pycharm": {
          "is_executing": false,
          "name": "#%%\n"
        }
      },
      "outputs": [
        {
          "name": "stdout",
          "output_type": "stream",
          "text": [
            "add(x1, x2, /, out\u003dNone, *, where\u003dTrue, casting\u003d\u0027same_kind\u0027, order\u003d\u0027K\u0027, dtype\u003dNone, subok\u003dTrue[, signature, extobj])\n",
            "\n",
            "Add arguments element-wise.\n",
            "\n",
            "Parameters\n",
            "----------\n",
            "x1, x2 : array_like\n",
            "    The arrays to be added.  If ``x1.shape !\u003d x2.shape``, they must be\n",
            "    broadcastable to a common shape (which may be the shape of one or\n",
            "    the other).\n",
            "out : ndarray, None, or tuple of ndarray and None, optional\n",
            "    A location into which the result is stored. If provided, it must have\n",
            "    a shape that the inputs broadcast to. If not provided or `None`,\n",
            "    a freshly-allocated array is returned. A tuple (possible only as a\n",
            "    keyword argument) must have length equal to the number of outputs.\n",
            "where : array_like, optional\n",
            "    Values of True indicate to calculate the ufunc at that position, values\n",
            "    of False indicate to leave the value in the output alone.\n",
            "**kwargs\n",
            "    For other keyword-only arguments, see the\n",
            "    :ref:`ufunc docs \u003cufuncs.kwargs\u003e`.\n",
            "\n",
            "Returns\n",
            "-------\n",
            "add : ndarray or scalar\n",
            "    The sum of `x1` and `x2`, element-wise.\n",
            "    This is a scalar if both `x1` and `x2` are scalars.\n",
            "\n",
            "Notes\n",
            "-----\n",
            "Equivalent to `x1` + `x2` in terms of array broadcasting.\n",
            "\n",
            "Examples\n",
            "--------\n",
            "\u003e\u003e\u003e np.add(1.0, 4.0)\n",
            "5.0\n",
            "\u003e\u003e\u003e x1 \u003d np.arange(9.0).reshape((3, 3))\n",
            "\u003e\u003e\u003e x2 \u003d np.arange(3.0)\n",
            "\u003e\u003e\u003e np.add(x1, x2)\n",
            "array([[  0.,   2.,   4.],\n",
            "       [  3.,   5.,   7.],\n",
            "       [  6.,   8.,  10.]])\n"
          ]
        }
      ],
      "source": [
        "np.info(np.add)"
      ]
    },
    {
      "cell_type": "markdown",
      "metadata": {
        "pycharm": {}
      },
      "source": [
        "6. 创建一个长度为10并且除了第五个值为1的空向量 (★☆☆)"
      ]
    },
    {
      "cell_type": "code",
      "execution_count": 8,
      "metadata": {
        "pycharm": {
          "is_executing": false,
          "name": "#%%\n"
        }
      },
      "outputs": [
        {
          "name": "stdout",
          "output_type": "stream",
          "text": [
            "[0. 0. 0. 0. 1. 0. 0. 0. 0. 0.]\n"
          ]
        }
      ],
      "source": [
        "empty_vector \u003d np.zeros(10)\n",
        "# 第5个设置为1\n",
        "empty_vector[4] \u003d 1 \n",
        "print(empty_vector)"
      ]
    },
    {
      "cell_type": "markdown",
      "metadata": {
        "pycharm": {}
      },
      "source": [
        "7. 创建一个值域范围从10到49的向量(★☆☆)\n",
        "\u003e 提示: `np.arange`"
      ]
    },
    {
      "cell_type": "code",
      "execution_count": 9,
      "metadata": {
        "pycharm": {
          "is_executing": false,
          "name": "#%%\n"
        }
      },
      "outputs": [
        {
          "name": "stdout",
          "output_type": "stream",
          "text": [
            "[10 11 12 13 14 15 16 17 18 19 20 21 22 23 24 25 26 27 28 29 30 31 32 33\n",
            " 34 35 36 37 38 39 40 41 42 43 44 45 46 47 48]\n"
          ]
        }
      ],
      "source": [
        "V \u003d np.arange(10, 49)\n",
        "print(V)"
      ]
    },
    {
      "cell_type": "markdown",
      "metadata": {
        "pycharm": {}
      },
      "source": [
        "8. 反转一个向量(第一个元素变为最后一个) (★☆☆)"
      ]
    },
    {
      "cell_type": "code",
      "execution_count": 10,
      "metadata": {
        "pycharm": {
          "is_executing": false,
          "name": "#%%\n"
        }
      },
      "outputs": [
        {
          "name": "stdout",
          "output_type": "stream",
          "text": [
            "[48 47 46 45 44 43 42 41 40 39 38 37 36 35 34 33 32 31 30 29 28 27 26 25\n",
            " 24 23 22 21 20 19 18 17 16 15 14 13 12 11 10]\n"
          ]
        }
      ],
      "source": [
        "reversed_v \u003d V[::-1]\n",
        "print(reversed_v)"
      ]
    },
    {
      "cell_type": "markdown",
      "metadata": {
        "pycharm": {}
      },
      "source": [
        "9. 创建一个 3x3 并且值从0到8的矩阵(★☆☆)\n",
        "\u003e 1. first generate an array contains 0 to 8\n",
        "\u003e 2. use `resharp` function"
      ]
    },
    {
      "cell_type": "code",
      "execution_count": 11,
      "metadata": {
        "pycharm": {
          "is_executing": false,
          "name": "#%%\n"
        }
      },
      "outputs": [
        {
          "name": "stdout",
          "output_type": "stream",
          "text": [
            "[[0 1 2]\n",
            " [3 4 5]\n",
            " [6 7 8]]\n"
          ]
        }
      ],
      "source": [
        "V \u003d np.arange(9).reshape(3, 3)\n",
        "print(V)"
      ]
    },
    {
      "cell_type": "markdown",
      "metadata": {
        "pycharm": {}
      },
      "source": [
        "10. 找到数组[1,2,0,0,4,0]中非0元素的位置索引 (★☆☆)\n",
        "\u003e the `np.nonzero` function return the index of the non zero element in the array"
      ]
    },
    {
      "cell_type": "code",
      "execution_count": 12,
      "metadata": {
        "pycharm": {
          "is_executing": false,
          "name": "#%%\n"
        }
      },
      "outputs": [
        {
          "name": "stdout",
          "output_type": "stream",
          "text": [
            "(array([0, 1, 4]),)\n"
          ]
        }
      ],
      "source": [
        "non_zero \u003d np.nonzero([1,2,0,0,4,0])\n",
        "print(non_zero)"
      ]
    },
    {
      "cell_type": "markdown",
      "metadata": {
        "pycharm": {}
      },
      "source": [
        "11. 创建一个 3x3 的单位矩阵 (★☆☆)\n",
        "\u003e A 3x3 identity matrix\n",
        "\u003e ```\n",
        "[[ 1, 0, 0],\n",
        " [ 0, 1, 0],\n",
        " [ 0, 0, 1]]\n",
        "```"
      ]
    },
    {
      "cell_type": "code",
      "execution_count": 14,
      "metadata": {
        "pycharm": {
          "is_executing": false,
          "name": "#%%\n"
        }
      },
      "outputs": [
        {
          "name": "stdout",
          "output_type": "stream",
          "text": [
            "[[1. 0. 0.]\n",
            " [0. 1. 0.]\n",
            " [0. 0. 1.]]\n"
          ]
        }
      ],
      "source": [
        "v \u003d np.eye(3)\n",
        "print(v)"
      ]
    },
    {
      "cell_type": "markdown",
      "metadata": {
        "pycharm": {
          "name": "#%% md\n"
        }
      },
      "source": [
        "12. 创建一个 3x3x3的随机数组 (★☆☆)"
      ]
    },
    {
      "cell_type": "code",
      "execution_count": 15,
      "metadata": {
        "pycharm": {
          "is_executing": false,
          "name": "#%%\n"
        }
      },
      "outputs": [
        {
          "name": "stdout",
          "output_type": "stream",
          "text": [
            "[[[0.53180868 0.78549558 0.79522018]\n",
            "  [0.01972074 0.73657973 0.43005167]\n",
            "  [0.24407507 0.31459721 0.23037705]]\n",
            "\n",
            " [[0.90188514 0.38681348 0.28266872]\n",
            "  [0.54036642 0.03518649 0.52955089]\n",
            "  [0.65656421 0.15177244 0.23776594]]\n",
            "\n",
            " [[0.65314538 0.34081541 0.49705029]\n",
            "  [0.45596853 0.8661569  0.89162143]\n",
            "  [0.26314743 0.42328074 0.63597007]]]\n"
          ]
        }
      ],
      "source": [
        "random_array \u003d np.random.random((3, 3, 3))\n",
        "print(random_array)"
      ]
    },
    {
      "cell_type": "markdown",
      "metadata": {
        "pycharm": {}
      },
      "source": [
        "13. 创建一个 10x10 的随机数组并找到它的最大值和最小值 (★☆☆)"
      ]
    },
    {
      "cell_type": "code",
      "execution_count": 16,
      "metadata": {
        "pycharm": {
          "is_executing": false,
          "name": "#%%\n"
        }
      },
      "outputs": [
        {
          "name": "stdout",
          "output_type": "stream",
          "text": [
            "0.9806457572526083 0.008698227232673328\n"
          ]
        }
      ],
      "source": [
        "v \u003d np.random.random((10, 10))\n",
        "v_max, v_min \u003d v.max(), v.min()\n",
        "print(v_max, v_min)"
      ]
    },
    {
      "cell_type": "markdown",
      "metadata": {
        "pycharm": {}
      },
      "source": [
        "14. 创建一个长度为30的随机向量并找到它的平均值 (★☆☆)"
      ]
    },
    {
      "cell_type": "code",
      "execution_count": 17,
      "metadata": {
        "pycharm": {
          "is_executing": false,
          "name": "#%%\n"
        }
      },
      "outputs": [
        {
          "name": "stdout",
          "output_type": "stream",
          "text": [
            "0.37988840352059966\n"
          ]
        }
      ],
      "source": [
        "v \u003d np.random.random(30)\n",
        "avg \u003d v.mean()\n",
        "print(avg)"
      ]
    },
    {
      "cell_type": "markdown",
      "metadata": {
        "pycharm": {}
      },
      "source": [
        "15. 创建一个二维数组，其中边界值为1，其余值为0 (★☆☆)"
      ]
    },
    {
      "cell_type": "code",
      "execution_count": 18,
      "metadata": {
        "pycharm": {
          "is_executing": false,
          "name": "#%%\n"
        }
      },
      "outputs": [
        {
          "name": "stdout",
          "output_type": "stream",
          "text": [
            "[[1. 1. 1.]\n",
            " [1. 0. 1.]\n",
            " [1. 1. 1.]]\n"
          ]
        }
      ],
      "source": [
        "v \u003d np.ones((3, 3))\n",
        "v[1:-1, 1:-1] \u003d 0\n",
        "print(v)"
      ]
    },
    {
      "cell_type": "markdown",
      "metadata": {
        "pycharm": {}
      },
      "source": [
        "16. 对于一个存在在数组，如何添加一个用0填充的边界? (★☆☆)"
      ]
    },
    {
      "cell_type": "code",
      "execution_count": 19,
      "metadata": {
        "pycharm": {
          "is_executing": false,
          "name": "#%%\n"
        }
      },
      "outputs": [
        {
          "name": "stdout",
          "output_type": "stream",
          "text": [
            "[[0. 0. 0. 0. 0. 0. 0. 0.]\n",
            " [0. 1. 1. 1. 1. 1. 1. 0.]\n",
            " [0. 1. 1. 1. 1. 1. 1. 0.]\n",
            " [0. 1. 1. 1. 1. 1. 1. 0.]\n",
            " [0. 1. 1. 1. 1. 1. 1. 0.]\n",
            " [0. 1. 1. 1. 1. 1. 1. 0.]\n",
            " [0. 1. 1. 1. 1. 1. 1. 0.]\n",
            " [0. 0. 0. 0. 0. 0. 0. 0.]]\n"
          ]
        }
      ],
      "source": [
        "v \u003d np.ones((6, 6))\n",
        "v \u003d np.pad(v, 1, \u0027constant\u0027, constant_values\u003d0)\n",
        "print(v)"
      ]
    },
    {
      "cell_type": "markdown",
      "metadata": {
        "pycharm": {}
      },
      "source": [
        "17. 以下表达式运行的结果分别是什么? (★☆☆)"
      ]
    },
    {
      "cell_type": "code",
      "execution_count": 20,
      "metadata": {
        "pycharm": {
          "is_executing": false,
          "name": "#%%\n"
        }
      },
      "outputs": [
        {
          "name": "stdout",
          "output_type": "stream",
          "text": [
            "nan\n"
          ]
        }
      ],
      "source": [
        "print(0*np.nan)"
      ]
    },
    {
      "cell_type": "code",
      "execution_count": 21,
      "metadata": {
        "pycharm": {
          "is_executing": false,
          "name": "#%%\n"
        }
      },
      "outputs": [
        {
          "name": "stdout",
          "output_type": "stream",
          "text": [
            "False\n"
          ]
        }
      ],
      "source": [
        "print(np.nan \u003d\u003d np.nan)"
      ]
    },
    {
      "cell_type": "code",
      "execution_count": 22,
      "metadata": {
        "pycharm": {
          "is_executing": false,
          "name": "#%%\n"
        }
      },
      "outputs": [
        {
          "name": "stdout",
          "output_type": "stream",
          "text": [
            "False\n"
          ]
        }
      ],
      "source": [
        "print(np.inf \u003e np.nan)"
      ]
    },
    {
      "cell_type": "code",
      "execution_count": 23,
      "metadata": {
        "pycharm": {
          "is_executing": false,
          "name": "#%%\n"
        }
      },
      "outputs": [
        {
          "name": "stdout",
          "output_type": "stream",
          "text": [
            "nan\n"
          ]
        }
      ],
      "source": [
        "print(np.nan - np.nan)"
      ]
    },
    {
      "cell_type": "code",
      "execution_count": 24,
      "metadata": {
        "pycharm": {
          "is_executing": false,
          "name": "#%%\n"
        }
      },
      "outputs": [
        {
          "name": "stdout",
          "output_type": "stream",
          "text": [
            "False\n"
          ]
        }
      ],
      "source": [
        "print(0.3 \u003d\u003d 3 * 0.1)"
      ]
    },
    {
      "cell_type": "markdown",
      "metadata": {
        "pycharm": {}
      },
      "source": [
        "18. 创建一个 5x5的矩阵，并设置值1,2,3,4落在其对角线下方位置 (★☆☆)\n",
        "\u003e 1. generate a 1-d array [1,2,3,4]\n",
        "\u003e 2. use `np.diag` to create 2-d array"
      ]
    },
    {
      "cell_type": "code",
      "execution_count": 27,
      "metadata": {
        "pycharm": {
          "is_executing": false,
          "name": "#%%\n"
        }
      },
      "outputs": [
        {
          "name": "stdout",
          "output_type": "stream",
          "text": [
            "[[0 0 0 0 0]\n",
            " [1 0 0 0 0]\n",
            " [0 2 0 0 0]\n",
            " [0 0 3 0 0]\n",
            " [0 0 0 4 0]]\n"
          ]
        }
      ],
      "source": [
        "v \u003d np.diag(1 + np.arange(4), k\u003d-1)\n",
        "print(v)"
      ]
    },
    {
      "cell_type": "markdown",
      "metadata": {
        "pycharm": {}
      },
      "source": [
        "19. 创建一个8x8 的矩阵，并且设置成棋盘样式 (★☆☆)"
      ]
    },
    {
      "cell_type": "code",
      "execution_count": 29,
      "metadata": {
        "pycharm": {
          "is_executing": false,
          "name": "#%%\n"
        }
      },
      "outputs": [
        {
          "name": "stdout",
          "output_type": "stream",
          "text": [
            "[[0 1 0 1 0 1 0 1]\n",
            " [1 0 1 0 1 0 1 0]\n",
            " [0 1 0 1 0 1 0 1]\n",
            " [1 0 1 0 1 0 1 0]\n",
            " [0 1 0 1 0 1 0 1]\n",
            " [1 0 1 0 1 0 1 0]\n",
            " [0 1 0 1 0 1 0 1]\n",
            " [1 0 1 0 1 0 1 0]]\n"
          ]
        }
      ],
      "source": [
        "v \u003d np.zeros((8,8), dtype\u003dint)\n",
        "v[1::2, ::2] \u003d 1\n",
        "v[::2, 1::2] \u003d 1\n",
        "print(v)"
      ]
    },
    {
      "cell_type": "markdown",
      "metadata": {
        "pycharm": {}
      },
      "source": [
        "20. 考虑一个 (6,7,8) 形状的数组，其第100个元素的索引(x,y,z)是什么?"
      ]
    },
    {
      "cell_type": "code",
      "execution_count": 30,
      "metadata": {
        "pycharm": {
          "is_executing": false,
          "name": "#%%\n"
        }
      },
      "outputs": [
        {
          "name": "stdout",
          "output_type": "stream",
          "text": [
            "(1, 5, 4)\n"
          ]
        }
      ],
      "source": [
        "print(np.unravel_index(100, (6, 7, 8)))"
      ]
    },
    {
      "cell_type": "markdown",
      "metadata": {
        "pycharm": {}
      },
      "source": [
        "21. 用tile函数去创建一个 8x8的棋盘样式矩阵(★☆☆)"
      ]
    },
    {
      "cell_type": "code",
      "execution_count": 31,
      "metadata": {
        "pycharm": {
          "is_executing": false,
          "name": "#%%\n"
        }
      },
      "outputs": [
        {
          "name": "stdout",
          "output_type": "stream",
          "text": [
            "[[0 1 0 1 0 1 0 1]\n",
            " [1 0 1 0 1 0 1 0]\n",
            " [0 1 0 1 0 1 0 1]\n",
            " [1 0 1 0 1 0 1 0]\n",
            " [0 1 0 1 0 1 0 1]\n",
            " [1 0 1 0 1 0 1 0]\n",
            " [0 1 0 1 0 1 0 1]\n",
            " [1 0 1 0 1 0 1 0]]\n"
          ]
        }
      ],
      "source": [
        "v \u003d np.tile(np.array([[0,1], [1,0]]), (4,4))\n",
        "print(v)"
      ]
    },
    {
      "cell_type": "markdown",
      "metadata": {
        "pycharm": {}
      },
      "source": [
        "22. 对一个5x5的随机矩阵做归一化(★☆☆)\n",
        "\u003e 这里有两种归一化处理，一种全局最大最小值，另外一种按照每一列分别最大最小值  \n",
        "\u003e 应该第二种的归一特征应该不会影响其他列"
      ]
    },
    {
      "cell_type": "code",
      "execution_count": 10,
      "metadata": {
        "pycharm": {
          "is_executing": false,
          "name": "#%%\n"
        }
      },
      "outputs": [
        {
          "name": "stdout",
          "output_type": "stream",
          "text": [
            "[[0.69003137 0.25532621 0.1118968  0.49330403 0.21227023 0.69866622]\n",
            " [0.00558337 0.73072196 0.24924803 0.92645812 0.20761539 0.18630234]\n",
            " [0.42172896 0.29731241 0.50182232 0.73573726 0.23043208 0.88308831]\n",
            " [0.84604681 0.89905369 0.30797273 0.49450212 0.77100012 0.2075642 ]\n",
            " [0.93170149 0.80182943 0.81867467 0.09948778 0.9266351  0.06419136]\n",
            " [0.66467386 0.63295166 0.76856678 0.06317588 0.10121101 0.42896614]]\n",
            "[[0.73905044 0.26966629 0.11479468 0.526629   0.22317549 0.74837414]\n",
            " [0.         0.78298715 0.26310322 0.99433834 0.2181493  0.19513598]\n",
            " [0.44934397 0.31500198 0.53582684 0.78840255 0.24278621 0.94750866]\n",
            " [0.90751214 0.9647477  0.32651273 0.52792267 0.82647854 0.21809403]\n",
            " [1.         0.85976728 0.87795637 0.10139572 0.99452943 0.06328349]\n",
            " [0.71167001 0.67741714 0.82385108 0.062187   0.10325642 0.4571585 ]]\n",
            "[[0.73905044 0.         0.         0.49824742 0.13454807 0.77479207]\n",
            " [0.         0.73850466 0.19433436 1.         0.12890874 0.14911641]\n",
            " [0.44934397 0.06522357 0.55169458 0.77907472 0.15655112 1.        ]\n",
            " [0.90751214 1.         0.27742227 0.49963526 0.81144846 0.17508045]\n",
            " [1.         0.84896673 1.         0.04206261 1.         0.        ]\n",
            " [0.71167001 0.58662315 0.92910377 0.         0.         0.4454465 ]]\n"
          ]
        }
      ],
      "source": [
        "v \u003d np.random.random((6, 6))\n",
        "print(v)\n",
        "# way 1\n",
        "v_max, v_min \u003d v.max(), v.min()\n",
        "r1 \u003d (v - v_min)/(v_max - v_min)\n",
        "print(r1)\n",
        "\n",
        "# way 2\n",
        "v_max0, v_min0 \u003d v.max(0), v.min(0)\n",
        "ranges \u003d v_max0 - v_min0\n",
        "\n",
        "m \u003d v.shape[0]\n",
        "diff_norm_data \u003d v - np.tile(v_min0, (m,1))\n",
        "norm_data_set1 \u003d diff_norm_data / np.tile(ranges, (m,1))\n",
        "\n",
        "print(norm_data_set1)"
      ]
    },
    {
      "cell_type": "markdown",
      "metadata": {
        "pycharm": {}
      },
      "source": [
        "23. 创建一个将颜色描述为(RGBA)四个无符号字节的自定义dtype？(★☆☆)"
      ]
    },
    {
      "cell_type": "code",
      "execution_count": 2,
      "metadata": {
        "pycharm": {
          "is_executing": false,
          "name": "#%%\n"
        }
      },
      "outputs": [
        {
          "data": {
            "text/plain": [
              "dtype([(\u0027r\u0027, \u0027u1\u0027), (\u0027g\u0027, \u0027u1\u0027), (\u0027b\u0027, \u0027u1\u0027), (\u0027a\u0027, \u0027u1\u0027)])"
            ]
          },
          "execution_count": 2,
          "metadata": {},
          "output_type": "execute_result"
        }
      ],
      "source": [
        "color \u003d np.dtype([(\"r\", np.ubyte, 1),\n",
        "                  (\"g\", np.ubyte, 1),\n",
        "                  (\"b\", np.ubyte, 1),\n",
        "                  (\"a\", np.ubyte, 1)])\n",
        "color"
      ]
    },
    {
      "cell_type": "markdown",
      "metadata": {
        "pycharm": {}
      },
      "source": [
        "24. 一个5x3的矩阵与一个3x2的矩阵相乘，实矩阵乘积是什么？ (★☆☆)"
      ]
    },
    {
      "cell_type": "code",
      "execution_count": 3,
      "metadata": {
        "pycharm": {
          "is_executing": false,
          "name": "#%%\n"
        }
      },
      "outputs": [
        {
          "name": "stdout",
          "output_type": "stream",
          "text": [
            "[[3. 3.]\n",
            " [3. 3.]\n",
            " [3. 3.]\n",
            " [3. 3.]\n",
            " [3. 3.]]\n"
          ]
        }
      ],
      "source": [
        "v \u003d np.dot(np.ones((5,3)), np.ones((3,2)))\n",
        "print(v)"
      ]
    },
    {
      "cell_type": "markdown",
      "metadata": {
        "pycharm": {}
      },
      "source": [
        "25. 给定一个一维数组，对其在3到8之间的所有元素取反 (★☆☆)"
      ]
    },
    {
      "cell_type": "code",
      "execution_count": 5,
      "metadata": {
        "pycharm": {
          "is_executing": false,
          "name": "#%%\n"
        }
      },
      "outputs": [
        {
          "name": "stdout",
          "output_type": "stream",
          "text": [
            "[ 0  1  2 -3 -4 -5 -6 -7 -8  9]\n"
          ]
        }
      ],
      "source": [
        "v \u003d np.arange(10)\n",
        "v[(3\u003c\u003dv)\u0026(v\u003c\u003d8)] *\u003d -1\n",
        "print(v)"
      ]
    },
    {
      "cell_type": "markdown",
      "metadata": {
        "pycharm": {}
      },
      "source": [
        "26. 下面脚本运行后的结果是什么? (★☆☆)\n",
        "\u003e 为啥前后结果不一样"
      ]
    },
    {
      "cell_type": "code",
      "execution_count": 6,
      "metadata": {
        "pycharm": {
          "is_executing": false,
          "name": "#%%\n"
        }
      },
      "outputs": [
        {
          "name": "stdout",
          "output_type": "stream",
          "text": [
            "9\n"
          ]
        }
      ],
      "source": [
        "print(sum(range(5), -1))"
      ]
    },
    {
      "cell_type": "code",
      "execution_count": 7,
      "metadata": {
        "pycharm": {
          "is_executing": false,
          "name": "#%%\n"
        }
      },
      "outputs": [
        {
          "name": "stdout",
          "output_type": "stream",
          "text": [
            "10\n"
          ]
        }
      ],
      "source": [
        "from numpy import *\n",
        "print(sum(range(5), -1))"
      ]
    },
    {
      "cell_type": "markdown",
      "metadata": {
        "pycharm": {}
      },
      "source": [
        "27. 考虑一个整数向量Z,下列表达合法的是哪个? (★☆☆)"
      ]
    },
    {
      "cell_type": "code",
      "execution_count": 8,
      "metadata": {
        "pycharm": {
          "is_executing": false,
          "name": "#%%\n"
        }
      },
      "outputs": [
        {
          "data": {
            "text/plain": [
              "array([  1,   1,   4,  27, 256])"
            ]
          },
          "execution_count": 8,
          "metadata": {},
          "output_type": "execute_result"
        }
      ],
      "source": [
        "v \u003d np.arange(5)\n",
        "v ** v"
      ]
    },
    {
      "cell_type": "code",
      "execution_count": 7,
      "metadata": {
        "pycharm": {
          "is_executing": false,
          "name": "#%%\n"
        }
      },
      "outputs": [
        {
          "data": {
            "text/plain": [
              "array([0, 1, 2, 4, 8])"
            ]
          },
          "execution_count": 7,
          "metadata": {},
          "output_type": "execute_result"
        }
      ],
      "source": [
        "v \u003d np.arange(5)\n",
        "2 \u003c\u003c v \u003e\u003e 2"
      ]
    },
    {
      "cell_type": "code",
      "execution_count": 3,
      "metadata": {
        "pycharm": {
          "is_executing": false,
          "name": "#%%\n"
        }
      },
      "outputs": [
        {
          "data": {
            "text/plain": [
              "array([False, False, False, False, False])"
            ]
          },
          "execution_count": 3,
          "metadata": {},
          "output_type": "execute_result"
        }
      ],
      "source": [
        "v \u003d np.arange(5)\n",
        "v \u003c- v"
      ]
    },
    {
      "cell_type": "code",
      "execution_count": 4,
      "metadata": {
        "pycharm": {
          "is_executing": false,
          "name": "#%%\n"
        }
      },
      "outputs": [
        {
          "data": {
            "text/plain": [
              "array([0.+0.j, 0.+1.j, 0.+2.j, 0.+3.j, 0.+4.j])"
            ]
          },
          "execution_count": 4,
          "metadata": {},
          "output_type": "execute_result"
        }
      ],
      "source": [
        "v \u003d np.arange(5)\n",
        "1j*v"
      ]
    },
    {
      "cell_type": "code",
      "execution_count": 5,
      "metadata": {
        "pycharm": {
          "is_executing": false,
          "name": "#%%\n"
        }
      },
      "outputs": [
        {
          "data": {
            "text/plain": [
              "array([0., 1., 2., 3., 4.])"
            ]
          },
          "execution_count": 5,
          "metadata": {},
          "output_type": "execute_result"
        }
      ],
      "source": [
        "v \u003d np.arange(5)\n",
        "v/1/1"
      ]
    },
    {
      "cell_type": "code",
      "execution_count": 6,
      "metadata": {
        "pycharm": {
          "is_executing": false,
          "name": "#%%\n"
        }
      },
      "outputs": [
        {
          "ename": "ValueError",
          "evalue": "The truth value of an array with more than one element is ambiguous. Use a.any() or a.all()",
          "output_type": "error",
          "traceback": [
            "\u001b[0;31m---------------------------------------------------------------------------\u001b[0m",
            "\u001b[0;31mValueError\u001b[0m                                Traceback (most recent call last)",
            "\u001b[0;32m\u003cipython-input-6-d188fe3aff07\u003e\u001b[0m in \u001b[0;36m\u003cmodule\u003e\u001b[0;34m\u001b[0m\n\u001b[1;32m      1\u001b[0m \u001b[0mv\u001b[0m \u001b[0;34m\u003d\u001b[0m \u001b[0mnp\u001b[0m\u001b[0;34m.\u001b[0m\u001b[0marange\u001b[0m\u001b[0;34m(\u001b[0m\u001b[0;36m5\u001b[0m\u001b[0;34m)\u001b[0m\u001b[0;34m\u001b[0m\u001b[0m\n\u001b[0;32m----\u003e 2\u001b[0;31m \u001b[0mv\u001b[0m\u001b[0;34m\u003c\u001b[0m\u001b[0mv\u001b[0m\u001b[0;34m\u003e\u001b[0m\u001b[0mv\u001b[0m\u001b[0;34m\u001b[0m\u001b[0m\n\u001b[0m",
            "\u001b[0;31mValueError\u001b[0m: The truth value of an array with more than one element is ambiguous. Use a.any() or a.all()"
          ]
        }
      ],
      "source": [
        "v \u003d np.arange(5)\n",
        "v\u003cv\u003ev"
      ]
    },
    {
      "cell_type": "markdown",
      "metadata": {
        "pycharm": {}
      },
      "source": [
        "28. 下列表达式的结果分别是什么?(★☆☆)"
      ]
    },
    {
      "cell_type": "code",
      "execution_count": 8,
      "metadata": {
        "pycharm": {
          "is_executing": false,
          "name": "#%%\n"
        }
      },
      "outputs": [
        {
          "name": "stdout",
          "output_type": "stream",
          "text": [
            "nan\n"
          ]
        },
        {
          "name": "stderr",
          "output_type": "stream",
          "text": [
            "/Library/Frameworks/Python.framework/Versions/3.6/lib/python3.6/site-packages/ipykernel_launcher.py:1: RuntimeWarning: invalid value encountered in true_divide\n",
            "  \"\"\"Entry point for launching an IPython kernel.\n"
          ]
        }
      ],
      "source": [
        "print(np.array(0) / np.array(0))"
      ]
    },
    {
      "cell_type": "code",
      "execution_count": 9,
      "metadata": {
        "pycharm": {
          "is_executing": false,
          "name": "#%%\n"
        }
      },
      "outputs": [
        {
          "name": "stdout",
          "output_type": "stream",
          "text": [
            "0\n"
          ]
        },
        {
          "name": "stderr",
          "output_type": "stream",
          "text": [
            "/Library/Frameworks/Python.framework/Versions/3.6/lib/python3.6/site-packages/ipykernel_launcher.py:1: RuntimeWarning: divide by zero encountered in floor_divide\n",
            "  \"\"\"Entry point for launching an IPython kernel.\n"
          ]
        }
      ],
      "source": [
        "print(np.array(0) // np.array(0))"
      ]
    },
    {
      "cell_type": "code",
      "execution_count": 10,
      "metadata": {
        "pycharm": {
          "is_executing": false,
          "name": "#%%\n"
        }
      },
      "outputs": [
        {
          "name": "stdout",
          "output_type": "stream",
          "text": [
            "[-9.22337204e+18]\n"
          ]
        }
      ],
      "source": [
        "print(np.array([np.nan]).astype(int).astype(float))"
      ]
    },
    {
      "cell_type": "markdown",
      "metadata": {
        "pycharm": {}
      },
      "source": [
        "29. 如何从零位对浮点数组做舍入 ? (★☆☆)"
      ]
    },
    {
      "cell_type": "code",
      "execution_count": 11,
      "metadata": {
        "pycharm": {
          "is_executing": false,
          "name": "#%%\n"
        }
      },
      "outputs": [
        {
          "name": "stdout",
          "output_type": "stream",
          "text": [
            "[-5.  4. -2. -9.  6. -4. -9.  1.  6.  1.]\n"
          ]
        }
      ],
      "source": [
        "v \u003d np.random.uniform(-10, +10, 10)\n",
        "print(np.copysign(np.ceil(np.abs(v)), v))"
      ]
    },
    {
      "cell_type": "markdown",
      "metadata": {
        "pycharm": {}
      },
      "source": [
        "30. 如何找到两个数组中的共同元素? (★☆☆)"
      ]
    },
    {
      "cell_type": "code",
      "execution_count": 12,
      "metadata": {
        "pycharm": {
          "is_executing": false,
          "name": "#%%\n"
        }
      },
      "outputs": [
        {
          "name": "stdout",
          "output_type": "stream",
          "text": [
            "[0 3 7]\n"
          ]
        }
      ],
      "source": [
        "v1 \u003d np.random.randint(0, 10, 10)\n",
        "v2 \u003d np.random.randint(0, 10, 10)\n",
        "print(np.intersect1d(v1, v2))"
      ]
    },
    {
      "cell_type": "markdown",
      "metadata": {
        "pycharm": {}
      },
      "source": [
        "31. 如何忽略所有的 numpy 警告(尽管不建议这么做)? (★☆☆)"
      ]
    },
    {
      "cell_type": "code",
      "execution_count": 14,
      "metadata": {
        "pycharm": {
          "is_executing": false,
          "name": "#%%\n"
        }
      },
      "outputs": [],
      "source": [
        "defaults \u003d np.seterr(all\u003d\u0027ignore\u0027)\n",
        "v \u003d np.ones(1) / 0\n",
        "\n",
        "_ \u003d np.seterr(**defaults)\n",
        "\n",
        "with np.errstate(divide\u003d\u0027ignore\u0027):\n",
        "    Z \u003d np.ones(1) / 0"
      ]
    },
    {
      "cell_type": "markdown",
      "metadata": {
        "pycharm": {}
      },
      "source": [
        "32. 下面的表达式是正确的吗? (★☆☆)"
      ]
    },
    {
      "cell_type": "code",
      "execution_count": 15,
      "metadata": {
        "pycharm": {
          "is_executing": false,
          "name": "#%%\n"
        }
      },
      "outputs": [
        {
          "name": "stderr",
          "output_type": "stream",
          "text": [
            "/Library/Frameworks/Python.framework/Versions/3.6/lib/python3.6/site-packages/ipykernel_launcher.py:1: RuntimeWarning: invalid value encountered in sqrt\n",
            "  \"\"\"Entry point for launching an IPython kernel.\n"
          ]
        },
        {
          "data": {
            "text/plain": [
              "False"
            ]
          },
          "execution_count": 15,
          "metadata": {},
          "output_type": "execute_result"
        }
      ],
      "source": [
        "np.sqrt(-1) \u003d\u003d np.emath.sqrt(-1)"
      ]
    },
    {
      "cell_type": "markdown",
      "metadata": {
        "pycharm": {}
      },
      "source": [
        "33. 如何得到昨天，今天，明天的日期? (★☆☆)"
      ]
    },
    {
      "cell_type": "code",
      "execution_count": 16,
      "metadata": {
        "pycharm": {
          "is_executing": false,
          "name": "#%%\n"
        }
      },
      "outputs": [
        {
          "name": "stdout",
          "output_type": "stream",
          "text": [
            "Yesterday is  2019-06-20\n",
            "Today is  2019-06-21\n",
            "Tomorrow is  2019-06-22\n"
          ]
        }
      ],
      "source": [
        "yesterday \u003d np.datetime64(\u0027today\u0027, \u0027D\u0027) - np.timedelta64(1, \u0027D\u0027)\n",
        "today \u003d np.datetime64(\u0027today\u0027, \u0027D\u0027)\n",
        "tomorrow \u003d np.datetime64(\u0027today\u0027, \u0027D\u0027) + np.timedelta64(1, \u0027D\u0027)\n",
        "print(\u0027Yesterday is \u0027, yesterday)\n",
        "print(\u0027Today is \u0027, today)\n",
        "print(\u0027Tomorrow is \u0027, tomorrow)\n"
      ]
    },
    {
      "cell_type": "markdown",
      "metadata": {
        "pycharm": {}
      },
      "source": [
        "34. 如何得到所有与2016年7月对应的日期？ (★★☆)"
      ]
    },
    {
      "cell_type": "code",
      "execution_count": 18,
      "metadata": {
        "pycharm": {
          "is_executing": false,
          "name": "#%%\n"
        }
      },
      "outputs": [
        {
          "name": "stdout",
          "output_type": "stream",
          "text": [
            "[\u00272016-07-01\u0027 \u00272016-07-02\u0027 \u00272016-07-03\u0027 \u00272016-07-04\u0027 \u00272016-07-05\u0027\n",
            " \u00272016-07-06\u0027 \u00272016-07-07\u0027 \u00272016-07-08\u0027 \u00272016-07-09\u0027 \u00272016-07-10\u0027\n",
            " \u00272016-07-11\u0027 \u00272016-07-12\u0027 \u00272016-07-13\u0027 \u00272016-07-14\u0027 \u00272016-07-15\u0027\n",
            " \u00272016-07-16\u0027 \u00272016-07-17\u0027 \u00272016-07-18\u0027 \u00272016-07-19\u0027 \u00272016-07-20\u0027\n",
            " \u00272016-07-21\u0027 \u00272016-07-22\u0027 \u00272016-07-23\u0027 \u00272016-07-24\u0027 \u00272016-07-25\u0027\n",
            " \u00272016-07-26\u0027 \u00272016-07-27\u0027 \u00272016-07-28\u0027 \u00272016-07-29\u0027 \u00272016-07-30\u0027\n",
            " \u00272016-07-31\u0027]\n"
          ]
        }
      ],
      "source": [
        "v \u003d np.arange(\u00272016-07\u0027, \u00272016-08\u0027, dtype\u003d\u0027datetime64[D]\u0027)\n",
        "print(v)"
      ]
    },
    {
      "cell_type": "markdown",
      "metadata": {
        "pycharm": {}
      },
      "source": [
        "35. 如何直接在位计算(A+B)\\*(-A/2)(不建立副本)? (★★☆)"
      ]
    },
    {
      "cell_type": "code",
      "execution_count": 19,
      "metadata": {
        "pycharm": {
          "is_executing": false,
          "name": "#%%\n"
        }
      },
      "outputs": [
        {
          "data": {
            "text/plain": [
              "array([-1.5, -1.5, -1.5])"
            ]
          },
          "execution_count": 19,
          "metadata": {},
          "output_type": "execute_result"
        }
      ],
      "source": [
        "A \u003d np.ones(3)*1\n",
        "B \u003d np.ones(3)*2\n",
        "np.add(A, B, out\u003dB)\n",
        "np.divide(A,2,out\u003dA)\n",
        "np.negative(A, out\u003dA)\n",
        "np.multiply(A, B, out\u003dA)"
      ]
    },
    {
      "cell_type": "markdown",
      "metadata": {
        "pycharm": {}
      },
      "source": [
        "36. 用五种不同的方法去提取一个随机数组的整数部分(★★☆)"
      ]
    },
    {
      "cell_type": "code",
      "execution_count": 21,
      "metadata": {
        "pycharm": {
          "is_executing": false,
          "name": "#%%\n"
        }
      },
      "outputs": [
        {
          "name": "stdout",
          "output_type": "stream",
          "text": [
            "[3.68704895 2.64349566 6.8672185  8.61802741 9.96122828 0.24174461\n",
            " 5.72547933 7.28264261 7.93621915 9.36758942]\n",
            "[3. 2. 6. 8. 9. 0. 5. 7. 7. 9.]\n",
            "[3. 2. 6. 8. 9. 0. 5. 7. 7. 9.]\n",
            "[3 2 6 8 9 0 5 7 7 9]\n",
            "[3. 2. 6. 8. 9. 0. 5. 7. 7. 9.]\n",
            "[3. 2. 6. 8. 9. 0. 5. 7. 7. 9.]\n"
          ]
        }
      ],
      "source": [
        "v \u003d np.random.uniform(0, 10, 10)\n",
        "print(v)\n",
        "print(v - v%1)\n",
        "print(np.floor(v))\n",
        "print(v.astype(int))\n",
        "print(np.ceil(v) - 1)\n",
        "print(np.trunc(v))"
      ]
    },
    {
      "cell_type": "markdown",
      "metadata": {
        "pycharm": {}
      },
      "source": [
        "37. 创建一个5x5的矩阵，其中每行的数值范围从0到4 (★★☆)"
      ]
    },
    {
      "cell_type": "code",
      "execution_count": 22,
      "metadata": {
        "pycharm": {
          "is_executing": false,
          "name": "#%%\n"
        }
      },
      "outputs": [
        {
          "name": "stdout",
          "output_type": "stream",
          "text": [
            "[[0. 1. 2. 3. 4.]\n",
            " [0. 1. 2. 3. 4.]\n",
            " [0. 1. 2. 3. 4.]\n",
            " [0. 1. 2. 3. 4.]\n",
            " [0. 1. 2. 3. 4.]]\n"
          ]
        }
      ],
      "source": [
        "v \u003d np.zeros((5,5))\n",
        "v +\u003d np.arange(5)\n",
        "print(v)"
      ]
    },
    {
      "cell_type": "markdown",
      "metadata": {
        "pycharm": {}
      },
      "source": [
        "38. 通过考虑一个可生成10个整数的函数，来构建一个数组(★☆☆)"
      ]
    },
    {
      "cell_type": "code",
      "execution_count": 2,
      "metadata": {
        "pycharm": {
          "name": "#%%\n"
        }
      },
      "outputs": [
        {
          "name": "stdout",
          "output_type": "stream",
          "text": [
            "[0. 1. 2. 3. 4. 5. 6. 7. 8. 9.]\n"
          ]
        }
      ],
      "source": [
        "def generate():\n",
        "    for x in range(10):\n",
        "        yield x\n",
        "\n",
        "v \u003d np.fromiter(generate(), dtype\u003dfloat, count\u003d-1)\n",
        "print(v)"
      ]
    },
    {
      "cell_type": "markdown",
      "metadata": {
        "pycharm": {}
      },
      "source": [
        "39. 创建一个长度为10的随机向量，其值域范围从0到1，但是不包括0和1 (★★☆)"
      ]
    },
    {
      "cell_type": "code",
      "execution_count": 3,
      "metadata": {
        "pycharm": {}
      },
      "outputs": [
        {
          "name": "stdout",
          "output_type": "stream",
          "text": [
            "[0.09090909 0.18181818 0.27272727 0.36363636 0.45454545 0.54545455\n",
            " 0.63636364 0.72727273 0.81818182 0.90909091]\n"
          ]
        }
      ],
      "source": [
        "v \u003d np.linspace(0, 1, 11, endpoint\u003dFalse)[1:]\n",
        "print(v)"
      ]
    },
    {
      "cell_type": "markdown",
      "metadata": {
        "pycharm": {}
      },
      "source": [
        "40. 创建一个长度为10的随机向量，并将其排序 (★★☆)"
      ]
    },
    {
      "cell_type": "code",
      "execution_count": 4,
      "metadata": {
        "pycharm": {}
      },
      "outputs": [
        {
          "name": "stdout",
          "output_type": "stream",
          "text": [
            "[0.88735466 0.67448082 0.70716609 0.15003484 0.21767853 0.37902043\n",
            " 0.87191868 0.59519264 0.40722987 0.78681261]\n",
            "[0.15003484 0.21767853 0.37902043 0.40722987 0.59519264 0.67448082\n",
            " 0.70716609 0.78681261 0.87191868 0.88735466]\n"
          ]
        }
      ],
      "source": [
        "v \u003d np.random.random(10)\n",
        "print(v)\n",
        "v.sort()\n",
        "print(v)"
      ]
    },
    {
      "cell_type": "markdown",
      "metadata": {
        "pycharm": {}
      },
      "source": [
        "41.对于一个小数组，如何用比 np.sum更快的方式对其求和？(★★☆)"
      ]
    },
    {
      "cell_type": "code",
      "execution_count": 5,
      "metadata": {
        "pycharm": {}
      },
      "outputs": [
        {
          "data": {
            "text/plain": [
              "45"
            ]
          },
          "execution_count": 5,
          "metadata": {},
          "output_type": "execute_result"
        }
      ],
      "source": [
        "v \u003d np.arange(10)\n",
        "np.add.reduce(v)"
      ]
    },
    {
      "cell_type": "markdown",
      "metadata": {
        "pycharm": {}
      },
      "source": [
        "42. 对于两个随机数组A和B，检查它们是否相等(★★☆)"
      ]
    },
    {
      "cell_type": "code",
      "execution_count": 6,
      "metadata": {
        "pycharm": {}
      },
      "outputs": [
        {
          "name": "stdout",
          "output_type": "stream",
          "text": [
            "False\n",
            "False\n"
          ]
        }
      ],
      "source": [
        "a \u003d np.random.randint(0,2,5)\n",
        "b \u003d np.random.randint(0,2,5)\n",
        "e1 \u003d np.array_equal(a, b)\n",
        "print(e1)\n",
        "e2 \u003d np.allclose(a,b)\n",
        "print(e2)"
      ]
    },
    {
      "cell_type": "markdown",
      "metadata": {
        "pycharm": {}
      },
      "source": [
        "43. 创建一个只读数组(read-only) (★★☆)"
      ]
    },
    {
      "cell_type": "code",
      "execution_count": 8,
      "metadata": {
        "pycharm": {}
      },
      "outputs": [
        {
          "ename": "ValueError",
          "evalue": "assignment destination is read-only",
          "output_type": "error",
          "traceback": [
            "\u001b[0;31m---------------------------------------------------------------------------\u001b[0m",
            "\u001b[0;31mValueError\u001b[0m                                Traceback (most recent call last)",
            "\u001b[0;32m\u003cipython-input-8-105d100d331e\u003e\u001b[0m in \u001b[0;36m\u003cmodule\u003e\u001b[0;34m\u001b[0m\n\u001b[1;32m      1\u001b[0m \u001b[0mv\u001b[0m \u001b[0;34m\u003d\u001b[0m \u001b[0mnp\u001b[0m\u001b[0;34m.\u001b[0m\u001b[0mzeros\u001b[0m\u001b[0;34m(\u001b[0m\u001b[0;36m10\u001b[0m\u001b[0;34m)\u001b[0m\u001b[0;34m\u001b[0m\u001b[0m\n\u001b[1;32m      2\u001b[0m \u001b[0mv\u001b[0m\u001b[0;34m.\u001b[0m\u001b[0mflags\u001b[0m\u001b[0;34m.\u001b[0m\u001b[0mwriteable\u001b[0m \u001b[0;34m\u003d\u001b[0m \u001b[0;32mFalse\u001b[0m\u001b[0;34m\u001b[0m\u001b[0m\n\u001b[0;32m----\u003e 3\u001b[0;31m \u001b[0mv\u001b[0m\u001b[0;34m[\u001b[0m\u001b[0;36m0\u001b[0m\u001b[0;34m]\u001b[0m \u001b[0;34m\u003d\u001b[0m \u001b[0;36m1\u001b[0m\u001b[0;34m\u001b[0m\u001b[0m\n\u001b[0m",
            "\u001b[0;31mValueError\u001b[0m: assignment destination is read-only"
          ]
        }
      ],
      "source": [
        "v \u003d np.zeros(10)\n",
        "v.flags.writeable \u003d False\n",
        "v[0] \u003d 1"
      ]
    },
    {
      "cell_type": "markdown",
      "metadata": {
        "pycharm": {}
      },
      "source": [
        "44. 将笛卡尔坐标下的一个10x2的矩阵转换为极坐标形式(★★☆)"
      ]
    },
    {
      "cell_type": "code",
      "execution_count": 11,
      "metadata": {
        "pycharm": {}
      },
      "outputs": [
        {
          "name": "stdout",
          "output_type": "stream",
          "text": [
            "[0.39676937 0.43422024 0.94488514 0.37967117 0.20801399 0.3383388\n",
            " 0.76177745 0.9213726  0.07867197 0.79865613]\n",
            "[1.05435359 0.78832439 0.51466034 1.11865018 0.20219041 1.12636779\n",
            " 0.75289351 0.47756715 1.40597893 0.72079018]\n"
          ]
        }
      ],
      "source": [
        "v \u003d np.random.random((10,2))\n",
        "x,y \u003d v[:,0], v[:,1]\n",
        "# 距离\n",
        "r \u003d np.sqrt(x**2, y**2)\n",
        "# 角度\n",
        "t \u003d np.arctan2(y,x)\n",
        "print(r)\n",
        "print(t)"
      ]
    },
    {
      "cell_type": "markdown",
      "metadata": {
        "pycharm": {}
      },
      "source": [
        "45. 创建一个长度为10的向量，并将向量中最大值替换为1 (★★☆)"
      ]
    },
    {
      "cell_type": "code",
      "execution_count": 4,
      "metadata": {
        "pycharm": {
          "is_executing": false
        }
      },
      "outputs": [
        {
          "name": "stdout",
          "text": [
            "[0.62616625 0.95798708 0.78213085 0.07857785 0.32968123 0.18956389\n 0.39396523 0.83297597 0.49246132 1.        ]\n"
          ],
          "output_type": "stream"
        }
      ],
      "source": "v \u003d np.random.random(10)\n# 这里为啥是0 而不是1???\nv[v.argmax()] \u003d 0\nprint(v)"
    },
    {
      "cell_type": "markdown",
      "metadata": {
        "pycharm": {
          "name": "#%% md\n"
        }
      },
      "source": "46. 创建一个结构化数组，并实现 x 和 y 坐标覆盖 [0,1]x[0,1] 区域 (★★☆)"
    },
    {
      "cell_type": "code",
      "execution_count": 5,
      "outputs": [
        {
          "name": "stdout",
          "text": [
            "[[(0.  , 0.  ) (0.25, 0.  ) (0.5 , 0.  ) (0.75, 0.  ) (1.  , 0.  )]\n [(0.  , 0.25) (0.25, 0.25) (0.5 , 0.25) (0.75, 0.25) (1.  , 0.25)]\n [(0.  , 0.5 ) (0.25, 0.5 ) (0.5 , 0.5 ) (0.75, 0.5 ) (1.  , 0.5 )]\n [(0.  , 0.75) (0.25, 0.75) (0.5 , 0.75) (0.75, 0.75) (1.  , 0.75)]\n [(0.  , 1.  ) (0.25, 1.  ) (0.5 , 1.  ) (0.75, 1.  ) (1.  , 1.  )]]\n"
          ],
          "output_type": "stream"
        }
      ],
      "source": "v \u003d np.zeros((5,5), [(\u0027x\u0027,float),(\u0027y\u0027,float)])\nv[\u0027x\u0027], v[\u0027y\u0027] \u003d np.meshgrid(np.linspace(0,1,5), np.linspace(0,1,5))\nprint(v)",
      "metadata": {
        "pycharm": {
          "metadata": false,
          "name": "#%%\n",
          "is_executing": false
        }
      }
    },
    {
      "cell_type": "markdown",
      "source": "47. 给定两个数组X和Y，构造Cauchy矩阵C (Cij \u003d1/(xi - yj))",
      "metadata": {
        "pycharm": {
          "metadata": false
        }
      }
    },
    {
      "cell_type": "code",
      "execution_count": null,
      "outputs": [],
      "source": "X \u003d np.arange(8)\nY \u003d X + 0.5\nC \u003d 1.0 / np.subtract.outer(X, Y)\nprint(np.linalg.det(C))",
      "metadata": {
        "pycharm": {
          "metadata": false,
          "name": "#%%\n"
        }
      }
    },
    {
      "cell_type": "markdown",
      "source": "48. 打印每个numpy标量类型的最小值和最大值？ (★★☆)",
      "metadata": {
        "pycharm": {
          "metadata": false
        }
      }
    },
    {
      "cell_type": "code",
      "execution_count": 6,
      "outputs": [
        {
          "name": "stdout",
          "text": [
            "-128\n127\n-2147483648\n2147483647\n-9223372036854775808\n9223372036854775807\n-3.4028235e+38\n3.4028235e+38\n1.1920929e-07\n-1.7976931348623157e+308\n1.7976931348623157e+308\n2.220446049250313e-16\n"
          ],
          "output_type": "stream"
        }
      ],
      "source": "for dtype in [np.int8, np.int32, np.int64]:\n    print(np.iinfo(dtype).min)\n    print(np.iinfo(dtype).max)\n\nfor dtype in [np.float32, np.float64]:\n    print(np.finfo(dtype).min)\n    print(np.finfo(dtype).max)\n    print(np.finfo(dtype).eps)",
      "metadata": {
        "pycharm": {
          "metadata": false,
          "name": "#%%\n",
          "is_executing": false
        }
      }
    },
    {
      "cell_type": "markdown",
      "source": "49. 如何打印一个数组中的所有数值? (★★☆)",
      "metadata": {
        "pycharm": {
          "metadata": false
        }
      }
    },
    {
      "cell_type": "code",
      "execution_count": 10,
      "outputs": [
        {
          "traceback": [
            "\u001b[1;31m---------------------------------------------------------------------------\u001b[0m",
            "\u001b[1;31mValueError\u001b[0m                                Traceback (most recent call last)",
            "\u001b[1;32m\u003cipython-input-10-6e5410ed5386\u003e\u001b[0m in \u001b[0;36m\u003cmodule\u003e\u001b[1;34m\u001b[0m\n\u001b[1;32m----\u003e 1\u001b[1;33m \u001b[0mnp\u001b[0m\u001b[1;33m.\u001b[0m\u001b[0mset_printoptions\u001b[0m\u001b[1;33m(\u001b[0m\u001b[0mthreshold\u001b[0m\u001b[1;33m\u003d\u001b[0m\u001b[0mnp\u001b[0m\u001b[1;33m.\u001b[0m\u001b[0mNAN\u001b[0m\u001b[1;33m)\u001b[0m\u001b[1;33m\u001b[0m\u001b[1;33m\u001b[0m\u001b[0m\n\u001b[0m\u001b[0;32m      2\u001b[0m \u001b[0mv\u001b[0m \u001b[1;33m\u003d\u001b[0m \u001b[0mnp\u001b[0m\u001b[1;33m.\u001b[0m\u001b[0mzeros\u001b[0m\u001b[1;33m(\u001b[0m\u001b[1;33m(\u001b[0m\u001b[1;36m16\u001b[0m\u001b[1;33m,\u001b[0m\u001b[1;36m16\u001b[0m\u001b[1;33m)\u001b[0m\u001b[1;33m)\u001b[0m\u001b[1;33m\u001b[0m\u001b[1;33m\u001b[0m\u001b[0m\n\u001b[0;32m      3\u001b[0m \u001b[0mprint\u001b[0m\u001b[1;33m(\u001b[0m\u001b[0mv\u001b[0m\u001b[1;33m)\u001b[0m\u001b[1;33m\u001b[0m\u001b[1;33m\u001b[0m\u001b[0m\n",
            "\u001b[1;32mc:\\users\\chinshan\\appdata\\local\\programs\\python\\python36\\lib\\site-packages\\numpy\\core\\arrayprint.py\u001b[0m in \u001b[0;36mset_printoptions\u001b[1;34m(precision, threshold, edgeitems, linewidth, suppress, nanstr, infstr, formatter, sign, floatmode, **kwarg)\u001b[0m\n\u001b[0;32m    244\u001b[0m     opt \u003d _make_options_dict(precision, threshold, edgeitems, linewidth,\n\u001b[0;32m    245\u001b[0m                              \u001b[0msuppress\u001b[0m\u001b[1;33m,\u001b[0m \u001b[0mnanstr\u001b[0m\u001b[1;33m,\u001b[0m \u001b[0minfstr\u001b[0m\u001b[1;33m,\u001b[0m \u001b[0msign\u001b[0m\u001b[1;33m,\u001b[0m \u001b[0mformatter\u001b[0m\u001b[1;33m,\u001b[0m\u001b[1;33m\u001b[0m\u001b[1;33m\u001b[0m\u001b[0m\n\u001b[1;32m--\u003e 246\u001b[1;33m                              floatmode, legacy)\n\u001b[0m\u001b[0;32m    247\u001b[0m     \u001b[1;31m# formatter is always reset\u001b[0m\u001b[1;33m\u001b[0m\u001b[1;33m\u001b[0m\u001b[1;33m\u001b[0m\u001b[0m\n\u001b[0;32m    248\u001b[0m     \u001b[0mopt\u001b[0m\u001b[1;33m[\u001b[0m\u001b[1;34m\u0027formatter\u0027\u001b[0m\u001b[1;33m]\u001b[0m \u001b[1;33m\u003d\u001b[0m \u001b[0mformatter\u001b[0m\u001b[1;33m\u001b[0m\u001b[1;33m\u001b[0m\u001b[0m\n",
            "\u001b[1;32mc:\\users\\chinshan\\appdata\\local\\programs\\python\\python36\\lib\\site-packages\\numpy\\core\\arrayprint.py\u001b[0m in \u001b[0;36m_make_options_dict\u001b[1;34m(precision, threshold, edgeitems, linewidth, suppress, nanstr, infstr, sign, formatter, floatmode, legacy)\u001b[0m\n\u001b[0;32m     91\u001b[0m         \u001b[1;31m# forbid the bad threshold arg suggested by stack overflow, gh-12351\u001b[0m\u001b[1;33m\u001b[0m\u001b[1;33m\u001b[0m\u001b[1;33m\u001b[0m\u001b[0m\n\u001b[0;32m     92\u001b[0m         \u001b[1;32mif\u001b[0m \u001b[1;32mnot\u001b[0m \u001b[0misinstance\u001b[0m\u001b[1;33m(\u001b[0m\u001b[0mthreshold\u001b[0m\u001b[1;33m,\u001b[0m \u001b[0mnumbers\u001b[0m\u001b[1;33m.\u001b[0m\u001b[0mNumber\u001b[0m\u001b[1;33m)\u001b[0m \u001b[1;32mor\u001b[0m \u001b[0mnp\u001b[0m\u001b[1;33m.\u001b[0m\u001b[0misnan\u001b[0m\u001b[1;33m(\u001b[0m\u001b[0mthreshold\u001b[0m\u001b[1;33m)\u001b[0m\u001b[1;33m:\u001b[0m\u001b[1;33m\u001b[0m\u001b[1;33m\u001b[0m\u001b[0m\n\u001b[1;32m---\u003e 93\u001b[1;33m             raise ValueError(\"threshold must be numeric and non-NAN, try \"\n\u001b[0m\u001b[0;32m     94\u001b[0m                              \"sys.maxsize for untruncated representation\")\n\u001b[0;32m     95\u001b[0m     \u001b[1;32mreturn\u001b[0m \u001b[0moptions\u001b[0m\u001b[1;33m\u001b[0m\u001b[1;33m\u001b[0m\u001b[0m\n",
            "\u001b[1;31mValueError\u001b[0m: threshold must be numeric and non-NAN, try sys.maxsize for untruncated representation"
          ],
          "ename": "ValueError",
          "evalue": "threshold must be numeric and non-NAN, try sys.maxsize for untruncated representation",
          "output_type": "error"
        }
      ],
      "source": "np.set_printoptions(threshold\u003dnp.NAN)\nv \u003d np.zeros((16,16))\nprint(v)",
      "metadata": {
        "pycharm": {
          "metadata": false,
          "name": "#%%\n",
          "is_executing": false
        }
      }
    },
    {
      "cell_type": "markdown",
      "source": "50. 给定标量时，如何找到数组中最接近标量的值？(★★☆)",
      "metadata": {
        "pycharm": {
          "metadata": false
        }
      }
    },
    {
      "cell_type": "code",
      "execution_count": 11,
      "outputs": [
        {
          "name": "stdout",
          "text": [
            "53\n"
          ],
          "output_type": "stream"
        }
      ],
      "source": "Z \u003d np.arange(100)\nv \u003d np.random.uniform(0,100)\nindex \u003d (np.abs(Z-v)).argmin()\nprint (Z[index])",
      "metadata": {
        "pycharm": {
          "metadata": false,
          "name": "#%%\n",
          "is_executing": false
        }
      }
    },
    {
      "cell_type": "markdown",
      "source": "51. 创建一个表示位置(x,y)和颜色(r,g,b)的结构化数组(★★☆",
      "metadata": {
        "pycharm": {
          "metadata": false
        }
      }
    },
    {
      "cell_type": "code",
      "execution_count": 12,
      "outputs": [
        {
          "name": "stdout",
          "text": [
            "[((0., 0.), (0., 0., 0.)) ((0., 0.), (0., 0., 0.))\n ((0., 0.), (0., 0., 0.)) ((0., 0.), (0., 0., 0.))\n ((0., 0.), (0., 0., 0.)) ((0., 0.), (0., 0., 0.))\n ((0., 0.), (0., 0., 0.)) ((0., 0.), (0., 0., 0.))\n ((0., 0.), (0., 0., 0.)) ((0., 0.), (0., 0., 0.))]\n"
          ],
          "output_type": "stream"
        }
      ],
      "source": "Z \u003d np.zeros(10, [ (\u0027position\u0027, [ (\u0027x\u0027, float, 1), (\u0027y\u0027, float, 1)]), (\u0027color\u0027,    [ (\u0027r\u0027, float, 1), (\u0027g\u0027, float, 1), (\u0027b\u0027, float, 1)])])\nprint (Z)",
      "metadata": {
        "pycharm": {
          "metadata": false,
          "name": "#%%\n",
          "is_executing": false
        }
      }
    },
    {
      "cell_type": "markdown",
      "source": "52. 对一个表示坐标形状为(100,2)的随机向量，找到点与点的距离(★★☆)",
      "metadata": {
        "pycharm": {
          "metadata": false
        }
      }
    },
    {
      "cell_type": "code",
      "execution_count": 14,
      "outputs": [
        {
          "name": "stdout",
          "text": [
            "[[0.         0.76243015 0.1049765  0.41898018 0.45935741 0.4696499\n  0.77208609 0.16967405 0.34426003 0.18272032]\n [0.76243015 0.         0.66230625 0.50168205 0.8512345  0.92747041\n  0.41023907 0.90045308 0.43167256 0.82921444]\n [0.1049765  0.66230625 0.         0.32359336 0.43150817 0.51654752\n  0.70507813 0.26950918 0.23970042 0.25379556]\n [0.41898018 0.50168205 0.32359336 0.         0.3501133  0.81338678\n  0.73295063 0.58861968 0.18500182 0.5753984 ]\n [0.45935741 0.8512345  0.43150817 0.3501133  0.         0.92898022\n  1.05452259 0.59108625 0.48390101 0.64023581]\n [0.4696499  0.92747041 0.51654752 0.81338678 0.92898022 0.\n  0.70356209 0.37291393 0.65716529 0.29189272]\n [0.77208609 0.41023907 0.70507813 0.73295063 1.05452259 0.70356209\n  0.         0.84497402 0.57086245 0.74331496]\n [0.16967405 0.90045308 0.26950918 0.58861968 0.59108625 0.37291393\n  0.84497402 0.         0.50128325 0.10875698]\n [0.34426003 0.43167256 0.23970042 0.18500182 0.48390101 0.65716529\n  0.57086245 0.50128325 0.         0.45755028]\n [0.18272032 0.82921444 0.25379556 0.5753984  0.64023581 0.29189272\n  0.74331496 0.10875698 0.45755028 0.        ]]\n[[0.         0.76243015 0.1049765  0.41898018 0.45935741 0.4696499\n  0.77208609 0.16967405 0.34426003 0.18272032]\n [0.76243015 0.         0.66230625 0.50168205 0.8512345  0.92747041\n  0.41023907 0.90045308 0.43167256 0.82921444]\n [0.1049765  0.66230625 0.         0.32359336 0.43150817 0.51654752\n  0.70507813 0.26950918 0.23970042 0.25379556]\n [0.41898018 0.50168205 0.32359336 0.         0.3501133  0.81338678\n  0.73295063 0.58861968 0.18500182 0.5753984 ]\n [0.45935741 0.8512345  0.43150817 0.3501133  0.         0.92898022\n  1.05452259 0.59108625 0.48390101 0.64023581]\n [0.4696499  0.92747041 0.51654752 0.81338678 0.92898022 0.\n  0.70356209 0.37291393 0.65716529 0.29189272]\n [0.77208609 0.41023907 0.70507813 0.73295063 1.05452259 0.70356209\n  0.         0.84497402 0.57086245 0.74331496]\n [0.16967405 0.90045308 0.26950918 0.58861968 0.59108625 0.37291393\n  0.84497402 0.         0.50128325 0.10875698]\n [0.34426003 0.43167256 0.23970042 0.18500182 0.48390101 0.65716529\n  0.57086245 0.50128325 0.         0.45755028]\n [0.18272032 0.82921444 0.25379556 0.5753984  0.64023581 0.29189272\n  0.74331496 0.10875698 0.45755028 0.        ]]\n"
          ],
          "output_type": "stream"
        }
      ],
      "source": "Z \u003d np.random.random((10,2))\nX,Y \u003d np.atleast_2d(Z[:,0], Z[:,1])\nD \u003d np.sqrt( (X-X.T)**2 + (Y-Y.T)**2)\nprint (D)\n# 方法2\n# Much faster with scipy\nimport scipy\n# Thanks Gavin Heverly-Coulson (#issue 1)\nimport scipy.spatial\nD \u003d scipy.spatial.distance.cdist(Z,Z)\nprint (D)",
      "metadata": {
        "pycharm": {
          "metadata": false,
          "name": "#%%\n",
          "is_executing": false
        }
      }
    },
    {
      "cell_type": "markdown",
      "source": "53. 如何将32位的浮点数(float)转换为对应的整数(integer)?",
      "metadata": {
        "pycharm": {
          "metadata": false,
          "name": "#%% md\n"
        }
      }
    },
    {
      "cell_type": "code",
      "execution_count": 15,
      "outputs": [
        {
          "name": "stdout",
          "text": [
            "[0. 1. 2. 3. 4. 5. 6. 7. 8. 9.]\n"
          ],
          "output_type": "stream"
        }
      ],
      "source": "Z \u003d np.arange(10, dtype\u003dnp.int32)\nZ \u003d Z.astype(np.float32, copy\u003dFalse)\nprint (Z)",
      "metadata": {
        "pycharm": {
          "metadata": false,
          "name": "#%%\n",
          "is_executing": false
        }
      }
    },
    {
      "cell_type": "markdown",
      "source": "54. 如何读取以下文件? (★★☆)",
      "metadata": {
        "pycharm": {
          "metadata": false
        }
      }
    },
    {
      "cell_type": "code",
      "execution_count": 69,
      "outputs": [
        {
          "name": "stdout",
          "text": [
            "[ 1.  2.  3.  4.  5.  6.  7.  8.  9. 10. 11.]\n"
          ],
          "output_type": "stream"
        }
      ],
      "source": "from io import StringIO\ntext \u003d StringIO(\u00271,2,3,4,5,6,7,8,9,10,11\u0027)\n# v \u003d np.genfromtxt(text,dtype\u003d[(\u0027myint\u0027,\u0027i8\u0027),(\u0027myfloat\u0027,\u0027f8\u0027), (\u0027mystring\u0027,\u0027S5\u0027)], delimiter\u003d\",\")\nv \u003d np.genfromtxt(text, delimiter\u003d\",\")\nprint(v)\n",
      "metadata": {
        "pycharm": {
          "metadata": false,
          "name": "#%%\n",
          "is_executing": false
        }
      }
    },
    {
      "cell_type": "markdown",
      "source": "55. 对于numpy数组，enumerate的等价操作是什么？(★★☆)",
      "metadata": {
        "pycharm": {
          "metadata": false
        }
      }
    },
    {
      "cell_type": "code",
      "execution_count": 16,
      "outputs": [
        {
          "name": "stdout",
          "text": [
            "(0, 0) 0\n(0, 1) 1\n(0, 2) 2\n(1, 0) 3\n(1, 1) 4\n(1, 2) 5\n(2, 0) 6\n(2, 1) 7\n(2, 2) 8\n(0, 0) 0\n(0, 1) 1\n(0, 2) 2\n(1, 0) 3\n(1, 1) 4\n(1, 2) 5\n(2, 0) 6\n(2, 1) 7\n(2, 2) 8\n"
          ],
          "output_type": "stream"
        }
      ],
      "source": "Z \u003d np.arange(9).reshape(3,3)\nfor index, value in np.ndenumerate(Z):\n    print (index, value)\nfor index in np.ndindex(Z.shape):\n    print (index, Z[index])",
      "metadata": {
        "pycharm": {
          "metadata": false,
          "name": "#%%\n",
          "is_executing": false
        }
      }
    },
    {
      "cell_type": "markdown",
      "source": "56. 生成一个通用的二维Gaussian-like数组 (★★☆)",
      "metadata": {
        "pycharm": {
          "metadata": false
        }
      }
    },
    {
      "cell_type": "code",
      "execution_count": 17,
      "outputs": [
        {
          "name": "stdout",
          "text": [
            "[[0.36787944 0.44822088 0.51979489 0.57375342 0.60279818 0.60279818\n  0.57375342 0.51979489 0.44822088 0.36787944]\n [0.44822088 0.54610814 0.63331324 0.69905581 0.73444367 0.73444367\n  0.69905581 0.63331324 0.54610814 0.44822088]\n [0.51979489 0.63331324 0.73444367 0.81068432 0.85172308 0.85172308\n  0.81068432 0.73444367 0.63331324 0.51979489]\n [0.57375342 0.69905581 0.81068432 0.89483932 0.9401382  0.9401382\n  0.89483932 0.81068432 0.69905581 0.57375342]\n [0.60279818 0.73444367 0.85172308 0.9401382  0.98773022 0.98773022\n  0.9401382  0.85172308 0.73444367 0.60279818]\n [0.60279818 0.73444367 0.85172308 0.9401382  0.98773022 0.98773022\n  0.9401382  0.85172308 0.73444367 0.60279818]\n [0.57375342 0.69905581 0.81068432 0.89483932 0.9401382  0.9401382\n  0.89483932 0.81068432 0.69905581 0.57375342]\n [0.51979489 0.63331324 0.73444367 0.81068432 0.85172308 0.85172308\n  0.81068432 0.73444367 0.63331324 0.51979489]\n [0.44822088 0.54610814 0.63331324 0.69905581 0.73444367 0.73444367\n  0.69905581 0.63331324 0.54610814 0.44822088]\n [0.36787944 0.44822088 0.51979489 0.57375342 0.60279818 0.60279818\n  0.57375342 0.51979489 0.44822088 0.36787944]]\n"
          ],
          "output_type": "stream"
        }
      ],
      "source": "X, Y \u003d np.meshgrid(np.linspace(-1,1,10), np.linspace(-1,1,10))\nD \u003d np.sqrt(X*X+Y*Y)\nsigma, mu \u003d 1.0, 0.0\nG \u003d np.exp(-( (D-mu)**2 / ( 2.0 * sigma**2 ) ) )\nprint (G)",
      "metadata": {
        "pycharm": {
          "metadata": false,
          "name": "#%%\n",
          "is_executing": false
        }
      }
    },
    {
      "cell_type": "markdown",
      "source": "57. 对一个二维数组，如何在其内部随机放置p个元素? (★★☆)",
      "metadata": {
        "pycharm": {
          "metadata": false
        }
      }
    },
    {
      "cell_type": "code",
      "execution_count": 18,
      "outputs": [
        {
          "name": "stdout",
          "text": [
            "[[0. 0. 0. 0. 0. 0. 0. 0. 0. 0.]\n [0. 0. 0. 0. 0. 0. 0. 0. 0. 0.]\n [0. 0. 0. 0. 0. 0. 0. 0. 0. 0.]\n [0. 0. 0. 0. 0. 0. 0. 0. 0. 0.]\n [0. 0. 0. 1. 1. 0. 0. 0. 0. 0.]\n [0. 0. 0. 0. 0. 0. 0. 0. 0. 0.]\n [0. 0. 0. 0. 0. 0. 0. 0. 0. 0.]\n [0. 0. 0. 0. 0. 0. 0. 0. 0. 0.]\n [0. 0. 0. 0. 0. 0. 0. 0. 0. 0.]\n [0. 1. 0. 0. 0. 0. 0. 0. 0. 0.]]\n"
          ],
          "output_type": "stream"
        }
      ],
      "source": "n \u003d 10\np \u003d 3\nZ \u003d np.zeros((n,n))\nnp.put(Z, np.random.choice(range(n*n), p, replace\u003dFalse),1)\nprint (Z)",
      "metadata": {
        "pycharm": {
          "metadata": false,
          "name": "#%%\n",
          "is_executing": false
        }
      }
    },
    {
      "cell_type": "markdown",
      "source": "58. 减去一个矩阵中的每一行的平均值 (★★☆)",
      "metadata": {
        "pycharm": {
          "metadata": false
        }
      }
    },
    {
      "cell_type": "code",
      "execution_count": 19,
      "outputs": [
        {
          "name": "stdout",
          "text": [
            "[[-0.05891605  0.20550184 -0.1509368   0.10997857 -0.07737432 -0.31072899\n  -0.2016621  -0.21647091  0.42246539  0.27814336]\n [-0.24717333 -0.06385028  0.22487592 -0.00591425 -0.00284555  0.24743162\n  -0.05181425  0.22177925 -0.12252374 -0.19996539]\n [-0.38830101 -0.11321673 -0.12186872  0.06954556  0.22239959  0.32148208\n   0.2912984   0.45647657 -0.31386627 -0.42394948]\n [ 0.47459229  0.43596921 -0.36156688 -0.00086712  0.24931799 -0.33378722\n   0.37940188 -0.48756776  0.09252682 -0.44801919]\n [-0.28029512  0.46496743 -0.29564622  0.46279561 -0.35269481 -0.0771259\n  -0.37962285  0.36768819  0.12131079 -0.03137713]]\n"
          ],
          "output_type": "stream"
        }
      ],
      "source": "X \u003d np.random.rand(5, 10)\nY \u003d X - X.mean(axis\u003d1, keepdims\u003dTrue)\nprint(Y)\n",
      "metadata": {
        "pycharm": {
          "metadata": false,
          "name": "#%%\n",
          "is_executing": false
        }
      }
    },
    {
      "cell_type": "markdown",
      "source": "59. 如何通过第n列对一个数组进行排序? (★★☆)",
      "metadata": {
        "pycharm": {
          "metadata": false
        }
      }
    },
    {
      "cell_type": "code",
      "execution_count": 20,
      "outputs": [
        {
          "name": "stdout",
          "text": [
            "[[7 6 1]\n [9 0 9]\n [2 6 5]]\n[[9 0 9]\n [7 6 1]\n [2 6 5]]\n"
          ],
          "output_type": "stream"
        }
      ],
      "source": "Z \u003d np.random.randint(0,10,(3,3))\nprint (Z)\nprint (Z[Z[:,1].argsort()])",
      "metadata": {
        "pycharm": {
          "metadata": false,
          "name": "#%%\n",
          "is_executing": false
        }
      }
    },
    {
      "cell_type": "markdown",
      "source": "60. 如何检查一个二维数组是否有空列？(★★☆)",
      "metadata": {
        "pycharm": {
          "metadata": false
        }
      }
    },
    {
      "cell_type": "code",
      "execution_count": 21,
      "outputs": [
        {
          "name": "stdout",
          "text": [
            "True\n"
          ],
          "output_type": "stream"
        }
      ],
      "source": "Z \u003d np.random.randint(0,3,(3,10))\nprint ((~Z.any(axis\u003d0)).any())",
      "metadata": {
        "pycharm": {
          "metadata": false,
          "name": "#%%\n",
          "is_executing": false
        }
      }
    },
    {
      "cell_type": "markdown",
      "source": "61. 从数组中的给定值中找出最近的值 (★★☆)",
      "metadata": {
        "pycharm": {
          "metadata": false
        }
      }
    },
    {
      "cell_type": "code",
      "execution_count": 22,
      "outputs": [
        {
          "name": "stdout",
          "text": [
            "0.5120823917193186\n"
          ],
          "output_type": "stream"
        }
      ],
      "source": "Z \u003d np.random.uniform(0,1,10)\nz \u003d 0.5\nm \u003d Z.flat[np.abs(Z - z).argmin()]\nprint (m)",
      "metadata": {
        "pycharm": {
          "metadata": false,
          "name": "#%%\n",
          "is_executing": false
        }
      }
    },
    {
      "cell_type": "markdown",
      "source": "62. 如何用迭代器(iterator)计算两个分别具有形状(1,3)和(3,1)的数组? (★★☆)",
      "metadata": {
        "pycharm": {
          "metadata": false
        }
      }
    },
    {
      "cell_type": "code",
      "execution_count": 23,
      "outputs": [
        {
          "name": "stdout",
          "text": [
            "[[0 1 2]\n [1 2 3]\n [2 3 4]]\n"
          ],
          "output_type": "stream"
        }
      ],
      "source": "A \u003d np.arange(3).reshape(3,1)\nB \u003d np.arange(3).reshape(1,3)\nit \u003d np.nditer([A,B,None])\nfor x,y,z in it: \n    z[...] \u003d x + y\nprint (it.operands[2])",
      "metadata": {
        "pycharm": {
          "metadata": false,
          "name": "#%%\n",
          "is_executing": false
        }
      }
    },
    {
      "cell_type": "markdown",
      "source": "63. 创建一个具有name属性的数组类(★★☆)",
      "metadata": {
        "pycharm": {
          "metadata": false
        }
      }
    },
    {
      "cell_type": "code",
      "execution_count": 24,
      "outputs": [
        {
          "name": "stdout",
          "text": [
            "range_10\n"
          ],
          "output_type": "stream"
        }
      ],
      "source": "class NamedArray(np.ndarray):\n    def __new__(cls, array, name\u003d\"no name\"):\n        obj \u003d np.asarray(array).view(cls)\n        obj.name \u003d name\n        return obj\n    def __array_finalize__(self, obj):\n        if obj is None: return\n        self.info \u003d getattr(obj, \u0027name\u0027, \"no name\")\n\nZ \u003d NamedArray(np.arange(10), \"range_10\")\nprint (Z.name)",
      "metadata": {
        "pycharm": {
          "metadata": false,
          "name": "#%%\n",
          "is_executing": false
        }
      }
    },
    {
      "cell_type": "markdown",
      "source": "64. 考虑一个给定的向量，如何对由第二个向量索引的每个元素加1(小心重复的索引)? (★★★)",
      "metadata": {
        "pycharm": {
          "metadata": false
        }
      }
    },
    {
      "cell_type": "code",
      "execution_count": 25,
      "outputs": [
        {
          "name": "stdout",
          "text": [
            "[5. 3. 3. 3. 3. 3. 2. 1. 3. 4.]\n"
          ],
          "output_type": "stream"
        }
      ],
      "source": "Z \u003d np.ones(10)\nI \u003d np.random.randint(0,len(Z),20)\nZ +\u003d np.bincount(I, minlength\u003dlen(Z))\nprint(Z)",
      "metadata": {
        "pycharm": {
          "metadata": false,
          "name": "#%%\n",
          "is_executing": false
        }
      }
    },
    {
      "cell_type": "markdown",
      "source": "65. 根据索引列表(I)，如何将向量(X)的元素累加到数组(F)? (★★★)",
      "metadata": {
        "pycharm": {
          "metadata": false
        }
      }
    },
    {
      "cell_type": "code",
      "execution_count": 26,
      "outputs": [
        {
          "name": "stdout",
          "text": [
            "[0. 7. 0. 6. 5. 0. 0. 0. 0. 3.]\n"
          ],
          "output_type": "stream"
        }
      ],
      "source": "X \u003d [1,2,3,4,5,6]\nI \u003d [1,3,9,3,4,1]\nF \u003d np.bincount(I,X)\nprint (F)",
      "metadata": {
        "pycharm": {
          "metadata": false,
          "name": "#%%\n",
          "is_executing": false
        }
      }
    },
    {
      "cell_type": "markdown",
      "source": "66. 考虑一个(dtype\u003dubyte) 的 (w,h,3)图像，计算其唯一颜色的数量(★★★)\n(提示: np.unique)",
      "metadata": {
        "pycharm": {
          "metadata": false
        }
      }
    },
    {
      "cell_type": "code",
      "execution_count": 27,
      "outputs": [
        {
          "name": "stdout",
          "text": [
            "8\n"
          ],
          "output_type": "stream"
        }
      ],
      "source": "w,h \u003d 16,16\nI \u003d np.random.randint(0,2,(h,w,3)).astype(np.ubyte)\nF \u003d I[...,0]*(256*256) + I[...,1]*256 +I[...,2]\nn \u003d len(np.unique(F))\nprint (n)",
      "metadata": {
        "pycharm": {
          "metadata": false,
          "name": "#%%\n",
          "is_executing": false
        }
      }
    },
    {
      "cell_type": "markdown",
      "source": "67. 考虑一个四维数组，如何一次性计算出最后两个轴(axis)的和？ (★★★)",
      "metadata": {
        "pycharm": {
          "metadata": false
        }
      }
    },
    {
      "cell_type": "code",
      "execution_count": 28,
      "outputs": [
        {
          "name": "stdout",
          "text": [
            "[[79 47 58 63]\n [39 56 43 61]\n [49 50 58 67]]\n"
          ],
          "output_type": "stream"
        }
      ],
      "source": "A \u003d np.random.randint(0,10,(3,4,3,4))\nsum \u003d A.sum(axis\u003d(-2,-1))\nprint (sum)",
      "metadata": {
        "pycharm": {
          "metadata": false,
          "name": "#%%\n",
          "is_executing": false
        }
      }
    },
    {
      "cell_type": "markdown",
      "source": "68. 考虑一个一维向量D，如何使用相同大小的向量S来计算D子集的均值？(★★★)",
      "metadata": {
        "pycharm": {
          "metadata": false
        }
      }
    },
    {
      "cell_type": "code",
      "execution_count": 29,
      "outputs": [
        {
          "name": "stdout",
          "text": [
            "[0.41217617 0.49520359 0.58620406 0.46404849 0.54535986 0.68207334\n 0.55968044 0.40475367 0.44780491 0.60594043]\n"
          ],
          "output_type": "stream"
        }
      ],
      "source": "D \u003d np.random.uniform(0,1,100)\nS \u003d np.random.randint(0,10,100)\nD_sums \u003d np.bincount(S, weights\u003dD)\nD_counts \u003d np.bincount(S)\nD_means \u003d D_sums / D_counts\nprint (D_means)",
      "metadata": {
        "pycharm": {
          "metadata": false,
          "name": "#%%\n",
          "is_executing": false
        }
      }
    },
    {
      "cell_type": "markdown",
      "source": "69. 如何获得点积 dot prodcut的对角线? (★★★)",
      "metadata": {
        "pycharm": {
          "metadata": false
        }
      }
    },
    {
      "cell_type": "code",
      "execution_count": 31,
      "outputs": [
        {
          "data": {
            "text/plain": "array([0.86561617, 1.2675724 , 1.07437344, 1.10038431, 1.76458293])"
          },
          "metadata": {},
          "output_type": "execute_result",
          "execution_count": 31
        }
      ],
      "source": "A \u003d np.random.uniform(0,1,(5,5))\nB \u003d np.random.uniform(0,1,(5,5))\nnp.sum(A * B.T, axis\u003d1)",
      "metadata": {
        "pycharm": {
          "metadata": false,
          "name": "#%%\n",
          "is_executing": false
        }
      }
    },
    {
      "cell_type": "markdown",
      "source": "70. 考虑一个向量[1,2,3,4,5],如何建立一个新的向量，在这个新向量中每个值之间有3个连续的零？(★★★)",
      "metadata": {
        "pycharm": {
          "metadata": false
        }
      }
    },
    {
      "cell_type": "code",
      "execution_count": 32,
      "outputs": [
        {
          "name": "stdout",
          "text": [
            "[1. 0. 0. 0. 2. 0. 0. 0. 3. 0. 0. 0. 4. 0. 0. 0. 5.]\n"
          ],
          "output_type": "stream"
        }
      ],
      "source": "Z \u003d np.array([1,2,3,4,5])\nnz \u003d 3\nZ0 \u003d np.zeros(len(Z) + (len(Z)-1)*(nz))\nZ0[::nz+1] \u003d Z\nprint (Z0)",
      "metadata": {
        "pycharm": {
          "metadata": false,
          "name": "#%%\n",
          "is_executing": false
        }
      }
    },
    {
      "cell_type": "markdown",
      "source": "71. 考虑一个维度(5,5,3)的数组，如何将其与一个(5,5)的数组相乘？(★★★)",
      "metadata": {
        "pycharm": {
          "metadata": false
        }
      }
    },
    {
      "cell_type": "code",
      "execution_count": 33,
      "outputs": [
        {
          "name": "stdout",
          "text": [
            "[[[2. 2. 2.]\n  [2. 2. 2.]\n  [2. 2. 2.]\n  [2. 2. 2.]\n  [2. 2. 2.]]\n\n [[2. 2. 2.]\n  [2. 2. 2.]\n  [2. 2. 2.]\n  [2. 2. 2.]\n  [2. 2. 2.]]\n\n [[2. 2. 2.]\n  [2. 2. 2.]\n  [2. 2. 2.]\n  [2. 2. 2.]\n  [2. 2. 2.]]\n\n [[2. 2. 2.]\n  [2. 2. 2.]\n  [2. 2. 2.]\n  [2. 2. 2.]\n  [2. 2. 2.]]\n\n [[2. 2. 2.]\n  [2. 2. 2.]\n  [2. 2. 2.]\n  [2. 2. 2.]\n  [2. 2. 2.]]]\n"
          ],
          "output_type": "stream"
        }
      ],
      "source": "A \u003d np.ones((5,5,3))\nB \u003d 2*np.ones((5,5))\nprint (A * B[:,:,None])",
      "metadata": {
        "pycharm": {
          "metadata": false,
          "name": "#%%\n",
          "is_executing": false
        }
      }
    },
    {
      "cell_type": "markdown",
      "source": "72. 如何对一个数组中任意两行做交换? (★★★)",
      "metadata": {
        "pycharm": {
          "metadata": false
        }
      }
    },
    {
      "cell_type": "code",
      "execution_count": 34,
      "outputs": [
        {
          "name": "stdout",
          "text": [
            "[[ 5  6  7  8  9]\n [ 0  1  2  3  4]\n [10 11 12 13 14]\n [15 16 17 18 19]\n [20 21 22 23 24]]\n"
          ],
          "output_type": "stream"
        }
      ],
      "source": "A \u003d np.arange(25).reshape(5,5)\nA[[0,1]] \u003d A[[1,0]]\nprint (A)",
      "metadata": {
        "pycharm": {
          "metadata": false,
          "name": "#%%\n",
          "is_executing": false
        }
      }
    },
    {
      "cell_type": "markdown",
      "source": "73. 考虑一个可以描述10个三角形的triplets，找到可以分割全部三角形的line segment",
      "metadata": {
        "pycharm": {
          "metadata": false
        }
      }
    },
    {
      "cell_type": "code",
      "execution_count": 35,
      "outputs": [
        {
          "name": "stdout",
          "text": [
            "[(14, 27) (14, 34) (16, 49) (16, 62) (18, 45) (18, 49) (18, 77) (18, 89)\n (20, 25) (20, 39) (25, 39) (27, 34) (33, 61) (33, 85) (40, 60) (40, 84)\n (43, 81) (43, 97) (45, 49) (49, 62) (60, 84) (61, 73) (61, 84) (61, 85)\n (61, 97) (61, 98) (73, 97) (77, 89) (81, 97) (84, 98)]\n"
          ],
          "output_type": "stream"
        }
      ],
      "source": "faces \u003d np.random.randint(0,100,(10,3))\nF \u003d np.roll(faces.repeat(2,axis\u003d1),-1,axis\u003d1)\nF \u003d F.reshape(len(F)*3,2)\nF \u003d np.sort(F,axis\u003d1)\nG \u003d F.view( dtype\u003d[(\u0027p0\u0027,F.dtype),(\u0027p1\u0027,F.dtype)] )\nG \u003d np.unique(G)\nprint (G)",
      "metadata": {
        "pycharm": {
          "metadata": false,
          "name": "#%%\n",
          "is_executing": false
        }
      }
    },
    {
      "cell_type": "markdown",
      "source": "74. 给定一个二进制的数组C，如何产生一个数组A满足np.bincount(A)\u003d\u003dC(★★★)",
      "metadata": {
        "pycharm": {
          "metadata": false
        }
      }
    },
    {
      "cell_type": "code",
      "execution_count": 36,
      "outputs": [
        {
          "name": "stdout",
          "text": [
            "[1 1 2 3 4 4 6]\n"
          ],
          "output_type": "stream"
        }
      ],
      "source": "C \u003d np.bincount([1,1,2,3,4,4,6])\nA \u003d np.repeat(np.arange(len(C)), C)\nprint (A)",
      "metadata": {
        "pycharm": {
          "metadata": false,
          "name": "#%%\n",
          "is_executing": false
        }
      }
    },
    {
      "cell_type": "markdown",
      "source": "75. 如何通过滑动窗口计算一个数组的平均数? (★★★)",
      "metadata": {
        "pycharm": {
          "metadata": false
        }
      }
    },
    {
      "cell_type": "code",
      "execution_count": 37,
      "outputs": [
        {
          "name": "stdout",
          "text": [
            "[ 1.  2.  3.  4.  5.  6.  7.  8.  9. 10. 11. 12. 13. 14. 15. 16. 17. 18.]\n"
          ],
          "output_type": "stream"
        }
      ],
      "source": "def moving_average(a, n\u003d3) :\n    ret \u003d np.cumsum(a, dtype\u003dfloat)\n    ret[n:] \u003d ret[n:] - ret[:-n]\n    return ret[n - 1:] / n\nZ \u003d np.arange(20)\n\nprint(moving_average(Z, n\u003d3))",
      "metadata": {
        "pycharm": {
          "metadata": false,
          "name": "#%%\n",
          "is_executing": false
        }
      }
    },
    {
      "cell_type": "markdown",
      "source": "Consider a one-dimensional array Z, build a two-dimensional array whose first row is (Z[0],Z[1],Z[2]) and each subsequent row is shifted by 1 (last row should be (Z[-3],Z[-2],Z[-1]) (★★★)",
      "metadata": {
        "pycharm": {
          "metadata": false
        }
      }
    },
    {
      "cell_type": "code",
      "execution_count": 38,
      "outputs": [
        {
          "name": "stdout",
          "text": [
            "[[0 1 2]\n [1 2 3]\n [2 3 4]\n [3 4 5]\n [4 5 6]\n [5 6 7]\n [6 7 8]\n [7 8 9]]\n"
          ],
          "output_type": "stream"
        }
      ],
      "source": "from numpy.lib import stride_tricks\n\ndef rolling(a, window):\n    shape \u003d (a.size - window + 1, window)\n    strides \u003d (a.itemsize, a.itemsize)\n    return stride_tricks.as_strided(a, shape\u003dshape, strides\u003dstrides)\nZ \u003d rolling(np.arange(10), 3)\n\nprint (Z)",
      "metadata": {
        "pycharm": {
          "metadata": false,
          "name": "#%%\n",
          "is_executing": false
        }
      }
    },
    {
      "cell_type": "markdown",
      "source": "77. 如何对布尔值取反，或者原位(in-place)改变浮点数的符号(sign)？(★★★)",
      "metadata": {
        "pycharm": {
          "metadata": false
        }
      }
    },
    {
      "cell_type": "code",
      "execution_count": 40,
      "outputs": [
        {
          "data": {
            "text/plain": "array([-0.34547638, -0.19343138,  0.34582313, -0.52595517, -0.96973804,\n        0.36161465,  0.6482063 , -0.56448527, -0.65842704, -0.55537213,\n        0.6068488 , -0.52198968, -0.02360468, -0.56195176,  0.37326362,\n       -0.81394506,  0.40334512,  0.49488626,  0.59363081, -0.38778696,\n       -0.11822527, -0.88497466,  0.01656397, -0.68575479,  0.53636333,\n       -0.47709405, -0.1045347 , -0.84855524, -0.97907979, -0.72867154,\n       -0.58898519, -0.0960375 , -0.33101904,  0.60627298, -0.78173931,\n        0.25778582,  0.57517854,  0.99017523,  0.84158648, -0.15879225,\n        0.16653446,  0.89429305, -0.56055358, -0.72764848, -0.01610181,\n        0.97354483, -0.57392592,  0.98210758, -0.75262022, -0.52902491,\n       -0.95903934, -0.31806514,  0.15331403, -0.22280156,  0.5947461 ,\n       -0.24394847,  0.09341142,  0.55082343,  0.31484279,  0.50999944,\n       -0.92014507,  0.95937513, -0.97682665,  0.05404803,  0.29692286,\n       -0.35195547,  0.53727296, -0.34993856,  0.03033192,  0.56319727,\n       -0.84106871,  0.54975548,  0.39382118,  0.05750499, -0.11251767,\n       -0.32351111, -0.0784367 ,  0.37777285,  0.86859336, -0.4299551 ,\n       -0.33013434, -0.36989583,  0.84569499,  0.0316775 ,  0.51518685,\n       -0.41379782,  0.5625797 , -0.33435732, -0.01093586,  0.12050086,\n        0.39348962, -0.12315588,  0.99631622,  0.2745963 ,  0.84374204,\n       -0.80997141, -0.86749575,  0.16467677,  0.77224413, -0.95324433])"
          },
          "metadata": {},
          "output_type": "execute_result",
          "execution_count": 40
        }
      ],
      "source": "Z \u003d np.random.randint(0,2,100)\nnp.logical_not(Z, out\u003dZ)\nZ \u003d np.random.uniform(-1.0,1.0,100)\nnp.negative(Z, out\u003dZ)",
      "metadata": {
        "pycharm": {
          "metadata": false,
          "name": "#%%\n",
          "is_executing": false
        }
      }
    },
    {
      "cell_type": "markdown",
      "source": "78. 考虑两组点集P0和P1去描述一组线(二维)和一个点p,如何计算点p到每一条线 i (P0[i],P1[i])的距离？(★★★)",
      "metadata": {
        "pycharm": {
          "metadata": false
        }
      }
    },
    {
      "cell_type": "code",
      "execution_count": 41,
      "outputs": [
        {
          "name": "stdout",
          "text": [
            "[ 4.1841481   4.69971662  7.64776507  5.10871526 15.00353657 12.11828708\n  1.31686632  7.15252115  6.35247377 12.9310685 ]\n"
          ],
          "output_type": "stream"
        }
      ],
      "source": "def distance(P0, P1, p):\n    T \u003d P1 - P0\n    L \u003d (T**2).sum(axis\u003d1)\n    U \u003d -((P0[:,0]-p[...,0])*T[:,0] + (P0[:,1]-p[...,1])*T[:,1]) / L\n    U \u003d U.reshape(len(U),1)\n    D \u003d P0 + U*T - p\n    return np.sqrt((D**2).sum(axis\u003d1))\n\nP0 \u003d np.random.uniform(-10,10,(10,2))\nP1 \u003d np.random.uniform(-10,10,(10,2))\np  \u003d np.random.uniform(-10,10,( 1,2))\n\nprint (distance(P0, P1, p))",
      "metadata": {
        "pycharm": {
          "metadata": false,
          "name": "#%%\n",
          "is_executing": false
        }
      }
    },
    {
      "cell_type": "markdown",
      "source": "79.考虑两组点集P0和P1去描述一组线(二维)和一组点集P，如何计算每一个点 j(P[j]) 到每一条线 i (P0[i],P1[i])的距离？(★★★)",
      "metadata": {
        "pycharm": {
          "metadata": false
        }
      }
    },
    {
      "cell_type": "code",
      "execution_count": 42,
      "outputs": [
        {
          "name": "stdout",
          "text": [
            "[[ 3.34334201 14.73715934  1.5557994  11.77109599  6.60524298 12.84962037\n   4.10036214  2.56633862  9.31135055  1.46636209]\n [ 7.43248138  2.85985075  4.7669199   0.05535016  2.73563517  0.5244331\n   6.59092089  9.16044981  3.08811956  5.41638054]\n [ 6.98863216 17.05466476  3.94911363  9.95618496 11.27948258 14.04695001\n   1.07467537  5.12585833  9.38167715  4.95239784]\n [14.21415619  3.32626147  2.95266254  2.93845141  9.76201494  4.97970694\n   8.28497541 15.47385417  7.76578099 11.75446244]\n [ 4.93484353  6.59539985  1.11567401  6.10986187  1.44569702  5.09865938\n   0.2744576   5.62906517  2.16910462  7.43787298]\n [ 2.2431496   7.58276115  6.20327599  2.30985352  2.65047169  4.71749864\n   5.33641974  4.3382927   0.46527708  0.53451092]\n [13.58182959  2.72847814  3.02748087  2.58799064  9.12556312  4.42981516\n   8.04503704 14.8678176   7.27873023 11.22622809]\n [ 9.03417681  1.25435393  4.98782414  1.14262253  4.26646838  1.02803456\n   7.55534087 10.7711237   4.54327153  6.48151026]\n [ 2.95443248 12.85770673  5.19411182  6.41830731  7.56018881  9.86899457\n   1.95280628  0.9422502   5.34503931  2.72751896]\n [ 2.35645714  7.29484261  7.0026213   1.63267098  2.6974454   4.30294548\n   6.08568837  4.59654305  0.06051988  0.08874839]]\n"
          ],
          "output_type": "stream"
        }
      ],
      "source": "P0 \u003d np.random.uniform(-10, 10, (10,2))\nP1 \u003d np.random.uniform(-10,10,(10,2))\np \u003d np.random.uniform(-10, 10, (10,2))\nprint (np.array([distance(P0,P1,p_i) for p_i in p]))",
      "metadata": {
        "pycharm": {
          "metadata": false,
          "name": "#%%\n",
          "is_executing": false
        }
      }
    },
    {
      "cell_type": "markdown",
      "source": "80.Consider an arbitrary array, write a function that extract a subpart with a fixed shape and centered on a given element (pad with a fill value when necessary) (★★★)",
      "metadata": {
        "pycharm": {
          "metadata": false
        }
      }
    },
    {
      "cell_type": "code",
      "execution_count": 43,
      "outputs": [
        {
          "name": "stdout",
          "text": [
            "[[1 7 6 1 4 3 1 5 9 0]\n [0 8 8 8 9 5 9 7 5 4]\n [7 3 1 8 1 0 1 1 2 3]\n [1 2 5 0 6 8 3 2 8 8]\n [5 8 3 6 8 2 0 6 0 2]\n [3 6 9 3 6 5 4 7 7 3]\n [5 8 5 7 7 1 0 9 1 5]\n [3 4 8 8 7 4 7 5 0 6]\n [0 4 2 4 8 9 7 6 2 2]\n [8 5 8 4 1 4 3 8 6 5]]\n[[0 0 0 0 0]\n [0 1 7 6 1]\n [0 0 8 8 8]\n [0 7 3 1 8]\n [0 1 2 5 0]]\n"
          ],
          "output_type": "stream"
        },
        {
          "name": "stderr",
          "text": [
            "c:\\users\\chinshan\\appdata\\local\\programs\\python\\python36\\lib\\site-packages\\ipykernel_launcher.py:23: FutureWarning: Using a non-tuple sequence for multidimensional indexing is deprecated; use `arr[tuple(seq)]` instead of `arr[seq]`. In the future this will be interpreted as an array index, `arr[np.array(seq)]`, which will result either in an error or a different result.\n"
          ],
          "output_type": "stream"
        }
      ],
      "source": "Z \u003d np.random.randint(0,10,(10,10))\nshape \u003d (5,5)\nfill  \u003d 0\nposition \u003d (1,1)\n\nR \u003d np.ones(shape, dtype\u003dZ.dtype)*fill\nP  \u003d np.array(list(position)).astype(int)\nRs \u003d np.array(list(R.shape)).astype(int)\nZs \u003d np.array(list(Z.shape)).astype(int)\n\nR_start \u003d np.zeros((len(shape),)).astype(int)\nR_stop  \u003d np.array(list(shape)).astype(int)\nZ_start \u003d (P-Rs//2)\nZ_stop  \u003d (P+Rs//2)+Rs%2\n\nR_start \u003d (R_start - np.minimum(Z_start,0)).tolist()\nZ_start \u003d (np.maximum(Z_start,0)).tolist()\nR_stop \u003d np.maximum(R_start, (R_stop - np.maximum(Z_stop-Zs,0))).tolist()\nZ_stop \u003d (np.minimum(Z_stop,Zs)).tolist()\n\nr \u003d [slice(start,stop) for start,stop in zip(R_start,R_stop)]\nz \u003d [slice(start,stop) for start,stop in zip(Z_start,Z_stop)]\nR[r] \u003d Z[z]\nprint (Z)\nprint (R)",
      "metadata": {
        "pycharm": {
          "metadata": false,
          "name": "#%%\n",
          "is_executing": false
        }
      }
    },
    {
      "cell_type": "markdown",
      "source": "81. 考虑一个数组Z \u003d [1,2,3,4,5,6,7,8,9,10,11,12,13,14],如何生成一个数组R \u003d [[1,2,3,4], [2,3,4,5], [3,4,5,6], ...,[11,12,13,14]]? (★★★)",
      "metadata": {
        "pycharm": {
          "metadata": false
        }
      }
    },
    {
      "cell_type": "code",
      "execution_count": 44,
      "outputs": [
        {
          "name": "stdout",
          "text": [
            "[[ 1  2  3  4]\n [ 2  3  4  5]\n [ 3  4  5  6]\n [ 4  5  6  7]\n [ 5  6  7  8]\n [ 6  7  8  9]\n [ 7  8  9 10]\n [ 8  9 10 11]\n [ 9 10 11 12]\n [10 11 12 13]\n [11 12 13 14]]\n"
          ],
          "output_type": "stream"
        }
      ],
      "source": "Z \u003d np.arange(1,15,dtype\u003dnp.uint32)\nR \u003d stride_tricks.as_strided(Z,(11,4),(4,4))\nprint (R)",
      "metadata": {
        "pycharm": {
          "metadata": false,
          "name": "#%%\n",
          "is_executing": false
        }
      }
    },
    {
      "cell_type": "markdown",
      "source": "82. 计算一个矩阵的秩(★★★)",
      "metadata": {
        "pycharm": {
          "metadata": false
        }
      }
    },
    {
      "cell_type": "code",
      "execution_count": 45,
      "outputs": [
        {
          "name": "stdout",
          "text": [
            "10\n"
          ],
          "output_type": "stream"
        }
      ],
      "source": "Z \u003d np.random.uniform(0,1,(10,10))\nU, S, V \u003d np.linalg.svd(Z) # Singular Value Decomposition\nrank \u003d np.sum(S \u003e 1e-10)\nprint (rank)",
      "metadata": {
        "pycharm": {
          "metadata": false,
          "name": "#%%\n",
          "is_executing": false
        }
      }
    },
    {
      "cell_type": "markdown",
      "source": "83. 如何找到一个数组中出现频率最高的值？",
      "metadata": {
        "pycharm": {
          "metadata": false
        }
      }
    },
    {
      "cell_type": "code",
      "execution_count": 46,
      "outputs": [
        {
          "name": "stdout",
          "text": [
            "0\n"
          ],
          "output_type": "stream"
        }
      ],
      "source": "Z \u003d np.random.randint(0,10,50)\nprint (np.bincount(Z).argmax())",
      "metadata": {
        "pycharm": {
          "metadata": false,
          "name": "#%%\n",
          "is_executing": false
        }
      }
    },
    {
      "cell_type": "markdown",
      "source": "84. 从一个10x10的矩阵中提取出连续的3x3区块(★★★)",
      "metadata": {
        "pycharm": {
          "metadata": false
        }
      }
    },
    {
      "cell_type": "code",
      "execution_count": 47,
      "outputs": [
        {
          "name": "stdout",
          "text": [
            "[[[[1 1 4]\n   [4 2 0]\n   [3 0 4]]\n\n  [[1 4 0]\n   [2 0 3]\n   [0 4 3]]\n\n  [[4 0 1]\n   [0 3 1]\n   [4 3 0]]\n\n  [[0 1 1]\n   [3 1 0]\n   [3 0 3]]\n\n  [[1 1 3]\n   [1 0 3]\n   [0 3 0]]\n\n  [[1 3 4]\n   [0 3 4]\n   [3 0 2]]\n\n  [[3 4 1]\n   [3 4 0]\n   [0 2 2]]\n\n  [[4 1 1]\n   [4 0 1]\n   [2 2 4]]]\n\n\n [[[4 2 0]\n   [3 0 4]\n   [4 3 3]]\n\n  [[2 0 3]\n   [0 4 3]\n   [3 3 1]]\n\n  [[0 3 1]\n   [4 3 0]\n   [3 1 1]]\n\n  [[3 1 0]\n   [3 0 3]\n   [1 1 4]]\n\n  [[1 0 3]\n   [0 3 0]\n   [1 4 2]]\n\n  [[0 3 4]\n   [3 0 2]\n   [4 2 3]]\n\n  [[3 4 0]\n   [0 2 2]\n   [2 3 2]]\n\n  [[4 0 1]\n   [2 2 4]\n   [3 2 3]]]\n\n\n [[[3 0 4]\n   [4 3 3]\n   [0 3 0]]\n\n  [[0 4 3]\n   [3 3 1]\n   [3 0 2]]\n\n  [[4 3 0]\n   [3 1 1]\n   [0 2 0]]\n\n  [[3 0 3]\n   [1 1 4]\n   [2 0 3]]\n\n  [[0 3 0]\n   [1 4 2]\n   [0 3 4]]\n\n  [[3 0 2]\n   [4 2 3]\n   [3 4 4]]\n\n  [[0 2 2]\n   [2 3 2]\n   [4 4 2]]\n\n  [[2 2 4]\n   [3 2 3]\n   [4 2 2]]]\n\n\n [[[4 3 3]\n   [0 3 0]\n   [1 2 1]]\n\n  [[3 3 1]\n   [3 0 2]\n   [2 1 3]]\n\n  [[3 1 1]\n   [0 2 0]\n   [1 3 1]]\n\n  [[1 1 4]\n   [2 0 3]\n   [3 1 4]]\n\n  [[1 4 2]\n   [0 3 4]\n   [1 4 3]]\n\n  [[4 2 3]\n   [3 4 4]\n   [4 3 2]]\n\n  [[2 3 2]\n   [4 4 2]\n   [3 2 4]]\n\n  [[3 2 3]\n   [4 2 2]\n   [2 4 4]]]\n\n\n [[[0 3 0]\n   [1 2 1]\n   [4 2 4]]\n\n  [[3 0 2]\n   [2 1 3]\n   [2 4 3]]\n\n  [[0 2 0]\n   [1 3 1]\n   [4 3 2]]\n\n  [[2 0 3]\n   [3 1 4]\n   [3 2 1]]\n\n  [[0 3 4]\n   [1 4 3]\n   [2 1 4]]\n\n  [[3 4 4]\n   [4 3 2]\n   [1 4 0]]\n\n  [[4 4 2]\n   [3 2 4]\n   [4 0 2]]\n\n  [[4 2 2]\n   [2 4 4]\n   [0 2 3]]]\n\n\n [[[1 2 1]\n   [4 2 4]\n   [3 4 2]]\n\n  [[2 1 3]\n   [2 4 3]\n   [4 2 1]]\n\n  [[1 3 1]\n   [4 3 2]\n   [2 1 4]]\n\n  [[3 1 4]\n   [3 2 1]\n   [1 4 1]]\n\n  [[1 4 3]\n   [2 1 4]\n   [4 1 1]]\n\n  [[4 3 2]\n   [1 4 0]\n   [1 1 0]]\n\n  [[3 2 4]\n   [4 0 2]\n   [1 0 1]]\n\n  [[2 4 4]\n   [0 2 3]\n   [0 1 3]]]\n\n\n [[[4 2 4]\n   [3 4 2]\n   [1 4 2]]\n\n  [[2 4 3]\n   [4 2 1]\n   [4 2 2]]\n\n  [[4 3 2]\n   [2 1 4]\n   [2 2 4]]\n\n  [[3 2 1]\n   [1 4 1]\n   [2 4 1]]\n\n  [[2 1 4]\n   [4 1 1]\n   [4 1 0]]\n\n  [[1 4 0]\n   [1 1 0]\n   [1 0 2]]\n\n  [[4 0 2]\n   [1 0 1]\n   [0 2 1]]\n\n  [[0 2 3]\n   [0 1 3]\n   [2 1 3]]]\n\n\n [[[3 4 2]\n   [1 4 2]\n   [0 3 4]]\n\n  [[4 2 1]\n   [4 2 2]\n   [3 4 3]]\n\n  [[2 1 4]\n   [2 2 4]\n   [4 3 0]]\n\n  [[1 4 1]\n   [2 4 1]\n   [3 0 0]]\n\n  [[4 1 1]\n   [4 1 0]\n   [0 0 3]]\n\n  [[1 1 0]\n   [1 0 2]\n   [0 3 3]]\n\n  [[1 0 1]\n   [0 2 1]\n   [3 3 1]]\n\n  [[0 1 3]\n   [2 1 3]\n   [3 1 4]]]]\n"
          ],
          "output_type": "stream"
        }
      ],
      "source": "Z \u003d np.random.randint(0,5,(10,10))\nn \u003d 3\ni \u003d 1 + (Z.shape[0]-3)\nj \u003d 1 + (Z.shape[1]-3)\nC \u003d stride_tricks.as_strided(Z, shape\u003d(i, j, n, n), strides\u003dZ.strides + Z.strides)\nprint (C)",
      "metadata": {
        "pycharm": {
          "metadata": false,
          "name": "#%%\n",
          "is_executing": false
        }
      }
    },
    {
      "cell_type": "markdown",
      "source": "85. 创建一个满足 Z[i,j] \u003d\u003d Z[j,i]的子类 (★★★)",
      "metadata": {
        "pycharm": {
          "metadata": false
        }
      }
    },
    {
      "cell_type": "code",
      "execution_count": 48,
      "outputs": [
        {
          "name": "stdout",
          "text": [
            "[[ 6 10 11  9  4]\n [10  1 13  9  2]\n [11 13  3 42  8]\n [ 9  9 42  5  8]\n [ 4  2  8  8  9]]\n"
          ],
          "output_type": "stream"
        }
      ],
      "source": "class Symetric(np.ndarray):\n    def __setitem__(self, index, value):\n        i,j \u003d index\n        super(Symetric, self).__setitem__((i,j), value)\n        super(Symetric, self).__setitem__((j,i), value)\n\ndef symetric(Z):\n    return np.asarray(Z + Z.T - np.diag(Z.diagonal())).view(Symetric)\n\nS \u003d symetric(np.random.randint(0,10,(5,5)))\nS[2,3] \u003d 42\nprint (S)",
      "metadata": {
        "pycharm": {
          "metadata": false,
          "name": "#%%\n",
          "is_executing": false
        }
      }
    },
    {
      "cell_type": "markdown",
      "source": "86. 考虑p个 nxn 矩阵和一组形状为(n,1)的向量，如何直接计算p个矩阵的乘积(n,1)？(★★★)",
      "metadata": {
        "pycharm": {
          "metadata": false
        }
      }
    },
    {
      "cell_type": "code",
      "execution_count": 49,
      "outputs": [
        {
          "name": "stdout",
          "text": [
            "[[200.]\n [200.]\n [200.]\n [200.]\n [200.]\n [200.]\n [200.]\n [200.]\n [200.]\n [200.]\n [200.]\n [200.]\n [200.]\n [200.]\n [200.]\n [200.]\n [200.]\n [200.]\n [200.]\n [200.]]\n"
          ],
          "output_type": "stream"
        }
      ],
      "source": "p, n \u003d 10, 20\nM \u003d np.ones((p,n,n))\nV \u003d np.ones((p,n,1))\nS \u003d np.tensordot(M, V, axes\u003d[[0, 2], [0, 1]])\nprint (S)",
      "metadata": {
        "pycharm": {
          "metadata": false,
          "name": "#%%\n",
          "is_executing": false
        }
      }
    },
    {
      "cell_type": "markdown",
      "source": "87. 对于一个16x16的数组，如何得到一个区域(block-sum)的和(区域大小为4x4)? (★★★)",
      "metadata": {
        "pycharm": {
          "metadata": false
        }
      }
    },
    {
      "cell_type": "code",
      "execution_count": 50,
      "outputs": [
        {
          "name": "stdout",
          "text": [
            "[[16. 16. 16. 16.]\n [16. 16. 16. 16.]\n [16. 16. 16. 16.]\n [16. 16. 16. 16.]]\n"
          ],
          "output_type": "stream"
        }
      ],
      "source": "Z \u003d np.ones((16,16))\nk \u003d 4\nS \u003d np.add.reduceat(np.add.reduceat(Z, np.arange(0, Z.shape[0], k), axis\u003d0), np.arange(0, Z.shape[1], k), axis\u003d1)\nprint (S)",
      "metadata": {
        "pycharm": {
          "metadata": false,
          "name": "#%%\n",
          "is_executing": false
        }
      }
    },
    {
      "cell_type": "markdown",
      "source": "88. 如何利用numpy数组实现Game of Life? (★★★)",
      "metadata": {
        "pycharm": {
          "metadata": false
        }
      }
    },
    {
      "cell_type": "code",
      "execution_count": 51,
      "outputs": [
        {
          "name": "stdout",
          "text": [
            "[[0 0 0 ... 0 0 0]\n [0 0 0 ... 0 0 0]\n [0 0 0 ... 0 0 0]\n ...\n [0 0 0 ... 0 0 0]\n [0 0 0 ... 0 0 0]\n [0 0 0 ... 0 0 0]]\n"
          ],
          "output_type": "stream"
        }
      ],
      "source": "def iterate(Z):\n    # Count neighbours\n    N \u003d (Z[0:-2,0:-2] + Z[0:-2,1:-1] + Z[0:-2,2:] +\n         Z[1:-1,0:-2]                + Z[1:-1,2:] +\n         Z[2:  ,0:-2] + Z[2:  ,1:-1] + Z[2:  ,2:])\n\n    # Apply rules\n    birth \u003d (N\u003d\u003d3) \u0026 (Z[1:-1,1:-1]\u003d\u003d0)\n    survive \u003d ((N\u003d\u003d2) | (N\u003d\u003d3)) \u0026 (Z[1:-1,1:-1]\u003d\u003d1)\n    Z[...] \u003d 0\n    Z[1:-1,1:-1][birth | survive] \u003d 1\n    return Z\n\nZ \u003d np.random.randint(0,2,(50,50))\nfor i in range(100): Z \u003d iterate(Z)\nprint (Z)",
      "metadata": {
        "pycharm": {
          "metadata": false,
          "name": "#%%\n",
          "is_executing": false
        }
      }
    },
    {
      "cell_type": "markdown",
      "source": "89. 如何找到一个数组的第n个最大值? (★★★)",
      "metadata": {
        "pycharm": {
          "metadata": false
        }
      }
    },
    {
      "cell_type": "code",
      "execution_count": 52,
      "outputs": [
        {
          "name": "stdout",
          "text": [
            "[9995 9996 9997 9998 9999]\n"
          ],
          "output_type": "stream"
        }
      ],
      "source": "Z \u003d np.arange(10000)\nnp.random.shuffle(Z)\nn \u003d 5\n\n# Slow\nprint (Z[np.argsort(Z)[-n:]])",
      "metadata": {
        "pycharm": {
          "metadata": false,
          "name": "#%%\n",
          "is_executing": false
        }
      }
    },
    {
      "cell_type": "markdown",
      "source": "90. 给定任意个数向量，创建笛卡尔积(每一个元素的每一种组合)(★★★)",
      "metadata": {
        "pycharm": {
          "metadata": false
        }
      }
    },
    {
      "cell_type": "code",
      "execution_count": 53,
      "outputs": [
        {
          "name": "stdout",
          "text": [
            "[[1 4 6]\n [1 4 7]\n [1 5 6]\n [1 5 7]\n [2 4 6]\n [2 4 7]\n [2 5 6]\n [2 5 7]\n [3 4 6]\n [3 4 7]\n [3 5 6]\n [3 5 7]]\n"
          ],
          "output_type": "stream"
        }
      ],
      "source": "def cartesian(arrays):\n    arrays \u003d [np.asarray(a) for a in arrays]\n    shape \u003d (len(x) for x in arrays)\n\n    ix \u003d np.indices(shape, dtype\u003dint)\n    ix \u003d ix.reshape(len(arrays), -1).T\n\n    for n, arr in enumerate(arrays):\n        ix[:, n] \u003d arrays[n][ix[:, n]]\n\n    return ix\n\nprint (cartesian(([1, 2, 3], [4, 5], [6, 7])))",
      "metadata": {
        "pycharm": {
          "metadata": false,
          "name": "#%%\n",
          "is_executing": false
        }
      }
    },
    {
      "cell_type": "markdown",
      "source": "91. 如何从一个正常数组创建记录数组(record array)? (★★★)",
      "metadata": {
        "pycharm": {
          "metadata": false
        }
      }
    },
    {
      "cell_type": "code",
      "execution_count": 54,
      "outputs": [
        {
          "name": "stdout",
          "text": [
            "[(b\u0027Hello\u0027, 2.5, 3) (b\u0027World\u0027, 3.6, 2)]\n"
          ],
          "output_type": "stream"
        }
      ],
      "source": "Z \u003d np.array([(\"Hello\", 2.5, 3), (\"World\", 3.6, 2)])\nR \u003d np.core.records.fromarrays(Z.T, names\u003d\u0027col1, col2, col3\u0027, formats \u003d \u0027S8, f8, i8\u0027)\nprint (R)",
      "metadata": {
        "pycharm": {
          "metadata": false,
          "name": "#%%\n",
          "is_executing": false
        }
      }
    },
    {
      "cell_type": "markdown",
      "source": "92. 考虑一个大向量Z, 用三种不同的方法计算它的立方(★★★)",
      "metadata": {
        "pycharm": {
          "metadata": false
        }
      }
    },
    {
      "cell_type": "code",
      "execution_count": 55,
      "outputs": [
        {
          "data": {
            "text/plain": "0.9887340153040709"
          },
          "metadata": {},
          "output_type": "execute_result",
          "execution_count": 55
        }
      ],
      "source": "x \u003d np.random.rand()\nnp.power(x,3)",
      "metadata": {
        "pycharm": {
          "metadata": false,
          "name": "#%%\n",
          "is_executing": false
        }
      }
    },
    {
      "cell_type": "markdown",
      "source": "93. 考虑两个形状分别为(8,3) 和(2,2)的数组A和B. 如何在数组A中找到满足包含B中元素的行？(不考虑B中每行元素顺序)？ (★★★)",
      "metadata": {
        "pycharm": {
          "metadata": false
        }
      }
    },
    {
      "cell_type": "code",
      "execution_count": 56,
      "outputs": [
        {
          "name": "stdout",
          "text": [
            "[1 3 6 7]\n"
          ],
          "output_type": "stream"
        }
      ],
      "source": "A \u003d np.random.randint(0,5,(8,3))\nB \u003d np.random.randint(0,5,(2,2))\n\nC \u003d (A[..., np.newaxis, np.newaxis] \u003d\u003d B)\nrows \u003d np.where(C.any((3,1)).all(1))[0]\nprint (rows)",
      "metadata": {
        "pycharm": {
          "metadata": false,
          "name": "#%%\n",
          "is_executing": false
        }
      }
    },
    {
      "cell_type": "markdown",
      "source": "94. 考虑一个10x3的矩阵，分解出有不全相同值的行 (如 [2,2,3]) (★★★)",
      "metadata": {
        "pycharm": {
          "metadata": false
        }
      }
    },
    {
      "cell_type": "code",
      "execution_count": 57,
      "outputs": [
        {
          "name": "stdout",
          "text": [
            "[[1 4 4]\n [4 4 3]\n [1 1 2]\n [1 1 1]\n [3 1 1]\n [1 3 4]\n [1 2 4]\n [0 4 4]\n [1 0 4]\n [0 4 1]]\n[[1 4 4]\n [4 4 3]\n [1 1 2]\n [3 1 1]\n [1 3 4]\n [1 2 4]\n [0 4 4]\n [1 0 4]\n [0 4 1]]\n"
          ],
          "output_type": "stream"
        }
      ],
      "source": "Z \u003d np.random.randint(0,5,(10,3))\nprint (Z)\n\n# solution for arrays of all dtypes (including string arrays and record arrays)\nE \u003d np.all(Z[:,1:] \u003d\u003d Z[:,:-1], axis\u003d1)\nU \u003d Z[~E]\nprint (U)",
      "metadata": {
        "pycharm": {
          "metadata": false,
          "name": "#%%\n",
          "is_executing": false
        }
      }
    },
    {
      "cell_type": "markdown",
      "source": "95. 将一个整数向量转换为matrix binary的表现形式 (★★★)",
      "metadata": {
        "pycharm": {
          "metadata": false
        }
      }
    },
    {
      "cell_type": "code",
      "execution_count": 59,
      "outputs": [
        {
          "name": "stdout",
          "text": [
            "[[0 0 0 0 0 0 0 0]\n [0 0 0 0 0 0 0 1]\n [0 0 0 0 0 0 1 0]\n [0 0 0 0 0 0 1 1]\n [0 0 0 0 1 1 1 1]\n [0 0 0 1 0 0 0 0]\n [0 0 1 0 0 0 0 0]\n [0 1 0 0 0 0 0 0]\n [1 0 0 0 0 0 0 0]]\n"
          ],
          "output_type": "stream"
        }
      ],
      "source": "I \u003d np.array([0, 1, 2, 3, 15, 16, 32, 64, 128])\nB \u003d ((I.reshape(-1,1) \u0026 (2**np.arange(8))) !\u003d 0).astype(int)\nprint(B[:,::-1])",
      "metadata": {
        "pycharm": {
          "metadata": false,
          "name": "#%%\n",
          "is_executing": false
        }
      }
    },
    {
      "cell_type": "markdown",
      "source": "96. 给定一个二维数组，如何提取出唯一的(unique)行?(★★★)",
      "metadata": {
        "pycharm": {
          "metadata": false
        }
      }
    },
    {
      "cell_type": "code",
      "execution_count": 60,
      "outputs": [
        {
          "name": "stdout",
          "text": [
            "[[0 0 0]\n [0 1 0]\n [0 1 1]]\n"
          ],
          "output_type": "stream"
        }
      ],
      "source": "Z \u003d np.random.randint(0,2,(6,3))\nT \u003d np.ascontiguousarray(Z).view(np.dtype((np.void, Z.dtype.itemsize * Z.shape[1])))\n_, idx \u003d np.unique(T, return_index\u003dTrue)\nuZ \u003d Z[idx]\nprint (uZ)",
      "metadata": {
        "pycharm": {
          "metadata": false,
          "name": "#%%\n",
          "is_executing": false
        }
      }
    },
    {
      "cell_type": "markdown",
      "source": "97. 考虑两个向量A和B，写出用einsum等式对应的inner, outer, sum, mul函数(★★★)",
      "metadata": {
        "pycharm": {
          "metadata": false
        }
      }
    },
    {
      "cell_type": "code",
      "execution_count": 61,
      "outputs": [
        {
          "name": "stdout",
          "text": [
            "sum\n6.0788487237683135\nA * B\n[0.14087966 0.06678032 0.73855308 0.56946124 0.34333455 0.17749726\n 0.35680843 0.00582251 0.49958578 0.66360743]\ninner\n3.5623302524210034\nouter\n[[0.14087966 0.01819158 0.17904054 0.20690712 0.10318521 0.05460961\n  0.17018013 0.00372837 0.20585262 0.19663148]\n [0.51716181 0.06678032 0.65724836 0.75954513 0.37878747 0.200469\n  0.62472229 0.01368665 0.75567409 0.72182377]\n [0.58113716 0.07504136 0.73855308 0.85350445 0.42564527 0.22526796\n  0.70200338 0.01537975 0.84915454 0.81111677]\n [0.38773681 0.05006787 0.49276527 0.56946124 0.28399206 0.15029959\n  0.46837918 0.01026142 0.56655896 0.54118003]\n [0.46875762 0.06052996 0.59573265 0.68845488 0.34333455 0.18170594\n  0.56625089 0.01240563 0.68494615 0.65426408]\n [0.45790024 0.05912796 0.58193427 0.67250886 0.33538222 0.17749726\n  0.55313537 0.01211829 0.6690814  0.63910999]\n [0.29537556 0.0381414  0.37538561 0.43381213 0.21634343 0.11449732\n  0.35680843 0.00781709 0.4316012  0.41226768]\n [0.22000856 0.02840937 0.27960352 0.32312213 0.16114199 0.08528258\n  0.26576643 0.00582251 0.32147533 0.30707489]\n [0.34190227 0.04414932 0.43451527 0.50214498 0.25042123 0.13253261\n  0.41301188 0.00904842 0.49958578 0.47720691]\n [0.47545181 0.06139437 0.60424013 0.69828649 0.3482376  0.18430082\n  0.57433735 0.01258279 0.69472766 0.66360743]]\n"
          ],
          "output_type": "stream"
        }
      ],
      "source": "A \u003d np.random.uniform(0,1,10)\nB \u003d np.random.uniform(0,1,10)\nprint (\u0027sum\u0027)\nprint (np.einsum(\u0027i-\u003e\u0027, A))# np.sum(A)\nprint (\u0027A * B\u0027)\nprint (np.einsum(\u0027i,i-\u003ei\u0027, A, B)) # A * B\nprint (\u0027inner\u0027)\nprint (np.einsum(\u0027i,i\u0027, A, B))    # np.inner(A, B)1\nprint (\u0027outer\u0027)\nprint (np.einsum(\u0027i,j-\u003eij\u0027, A, B))    # np.outer(A, B)",
      "metadata": {
        "pycharm": {
          "metadata": false,
          "name": "#%%\n",
          "is_executing": false
        }
      }
    },
    {
      "cell_type": "markdown",
      "source": "98. 考虑一个由两个向量描述的路径(X,Y)，如何用等距样例(equidistant samples)对其进行采样(sample)? (★★★)",
      "metadata": {
        "pycharm": {
          "metadata": false
        }
      }
    },
    {
      "cell_type": "code",
      "execution_count": 62,
      "outputs": [],
      "source": "phi \u003d np.arange(0, 10*np.pi, 0.1)\na \u003d 1\nx \u003d a*phi*np.cos(phi)\ny \u003d a*phi*np.sin(phi)\n\ndr \u003d (np.diff(x)**2 + np.diff(y)**2)**.5 # segment lengths\nr \u003d np.zeros_like(x)\nr[1:] \u003d np.cumsum(dr)                # integrate path\nr_int \u003d np.linspace(0, r.max(), 200) # regular spaced path\nx_int \u003d np.interp(r_int, r, x)       # integrate path\ny_int \u003d np.interp(r_int, r, y)",
      "metadata": {
        "pycharm": {
          "metadata": false,
          "name": "#%%\n",
          "is_executing": false
        }
      }
    },
    {
      "cell_type": "markdown",
      "source": "99. Given an integer n and a 2D array X, select from X the rows which can be interpreted as draws from a multinomial distribution with n degrees, i.e., the rows which only contain integers and which sum to n. (★★★)",
      "metadata": {
        "pycharm": {
          "metadata": false
        }
      }
    },
    {
      "cell_type": "code",
      "execution_count": 64,
      "outputs": [
        {
          "name": "stdout",
          "text": [
            "[[2. 0. 1. 1.]]\n"
          ],
          "output_type": "stream"
        }
      ],
      "source": "X \u003d np.asarray([[1.0, 0.0, 3.0, 8.0], [2.0, 0.0, 1.0, 1.0], [1.5, 2.5, 1.0, 0.0]])\nn \u003d 4\nM \u003d np.logical_and.reduce(np.mod(X, 1) \u003d\u003d 0, axis\u003d-1)\nM \u0026\u003d (X.sum(axis\u003d-1) \u003d\u003d n)\nprint (X[M])",
      "metadata": {
        "pycharm": {
          "metadata": false,
          "name": "#%%\n",
          "is_executing": false
        }
      }
    },
    {
      "cell_type": "markdown",
      "source": "100. 对于一个一维数组X，计算它boostrapped之后的95%置信区间的平均值。",
      "metadata": {
        "pycharm": {
          "metadata": false
        }
      }
    },
    {
      "cell_type": "code",
      "execution_count": 65,
      "outputs": [
        {
          "name": "stdout",
          "text": [
            "[-0.0998764   0.29606429]\n"
          ],
          "output_type": "stream"
        }
      ],
      "source": "X \u003d np.random.randn(100) # random 1D array\nN \u003d 1000 # number of bootstrap samples\nidx \u003d np.random.randint(0, X.size, (N, X.size))\nmeans \u003d X[idx].mean(axis\u003d1)\nconfint \u003d np.percentile(means, [2.5, 97.5])\nprint (confint)\n",
      "metadata": {
        "pycharm": {
          "metadata": false,
          "name": "#%%\n",
          "is_executing": false
        }
      }
    }
  ],
  "metadata": {
    "kernelspec": {
      "display_name": "Python 3",
      "language": "python",
      "name": "python3"
    },
    "language_info": {
      "codemirror_mode": {
        "name": "ipython",
        "version": 3
      },
      "file_extension": ".py",
      "mimetype": "text/x-python",
      "name": "python",
      "nbconvert_exporter": "python",
      "pygments_lexer": "ipython3",
      "version": "3.6.2"
    },
    "pycharm": {
      "stem_cell": {
        "cell_type": "raw",
        "metadata": {
          "collapsed": false
        },
        "source": []
      }
    }
  },
  "nbformat": 4,
  "nbformat_minor": 1
}
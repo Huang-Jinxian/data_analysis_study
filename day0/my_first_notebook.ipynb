{
  "cells": [
    {
      "cell_type": "markdown",
      "metadata": {
        "pycharm": {
          "metadata": false,
          "name": "#%% md\n"
        }
      },
      "source": [
        "***Hello Jupyter!!!***"
      ]
    },
    {
      "cell_type": "code",
      "execution_count": 11,
      "metadata": {
        "pycharm": {
          "is_executing": false
        }
      },
      "outputs": [
        {
          "name": "stdout",
          "output_type": "stream",
          "text": [
            "Hello Jupyter!!!\n"
          ]
        }
      ],
      "source": [
        "print(\u0027Hello Jupyter!!!\u0027)"
      ]
    },
    {
      "cell_type": "code",
      "execution_count": 15,
      "metadata": {
        "pycharm": {
          "is_executing": false,
          "metadata": false,
          "name": "#%%\n"
        }
      },
      "outputs": [],
      "source": [
        "b \u003d [1,2,3]"
      ]
    },
    {
      "cell_type": "code",
      "execution_count": 16,
      "metadata": {
        "pycharm": {
          "is_executing": false,
          "metadata": false,
          "name": "#%%\n"
        }
      },
      "outputs": [],
      "source": "b?"
    },
    {
      "cell_type": "code",
      "execution_count": 21,
      "metadata": {
        "pycharm": {
          "metadata": false,
          "name": "#%%\n",
          "is_executing": false
        }
      },
      "outputs": [
        {
          "data": {
            "text/plain": "[\u003cmatplotlib.lines.Line2D at 0x1dc1d7bbd30\u003e]"
          },
          "metadata": {},
          "output_type": "execute_result",
          "execution_count": 21
        },
        {
          "data": {
            "text/plain": "\u003cFigure size 432x288 with 1 Axes\u003e",
            "image/png": "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\u003d\n"
          },
          "metadata": {
            "needs_background": "light"
          },
          "output_type": "display_data"
        }
      ],
      "source": "import matplotlib.pyplot as plt\nimport numpy as np\n\nplt.plot(np.random.randn(50).cumsum())"
    }
  ],
  "metadata": {
    "kernelspec": {
      "display_name": "Python 3",
      "language": "python",
      "name": "python3"
    },
    "language_info": {
      "codemirror_mode": {
        "name": "ipython",
        "version": 3
      },
      "file_extension": ".py",
      "mimetype": "text/x-python",
      "name": "python",
      "nbconvert_exporter": "python",
      "pygments_lexer": "ipython3",
      "version": "3.6.8"
    },
    "stem_cell": {
      "cell_type": "raw",
      "metadata": {
        "pycharm": {
          "metadata": false
        }
      },
      "source": ""
    }
  },
  "nbformat": 4,
  "nbformat_minor": 2
}